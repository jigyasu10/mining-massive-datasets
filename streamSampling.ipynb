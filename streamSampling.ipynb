{
 "metadata": {
  "name": "",
  "signature": "sha256:b26e860a7d0c4f81191e662622369f46c69e132794d47befc3b4b70e41911202"
 },
 "nbformat": 3,
 "nbformat_minor": 0,
 "worksheets": [
  {
   "cells": [
    {
     "cell_type": "code",
     "collapsed": false,
     "input": [
      "import numpy as np\n",
      "import random\n",
      "import string"
     ],
     "language": "python",
     "metadata": {},
     "outputs": [],
     "prompt_number": 12
    },
    {
     "cell_type": "code",
     "collapsed": false,
     "input": [
      "def randomString(n=5):\n",
      "    \"\"\"\n",
      "    Creates a alpha-numeric string of requested length (securely)\n",
      "    \"\"\"\n",
      "    return ''.join(random.SystemRandom().choice(string.uppercase + string.digits) for _ in xrange(n))\n",
      "\n",
      "randomString()"
     ],
     "language": "python",
     "metadata": {},
     "outputs": [
      {
       "metadata": {},
       "output_type": "pyout",
       "prompt_number": 13,
       "text": [
        "'2ZGHS'"
       ]
      }
     ],
     "prompt_number": 13
    },
    {
     "cell_type": "code",
     "collapsed": false,
     "input": [
      "class StreamSampler(object):\n",
      "    def __init__(self, proportion, key):\n",
      "        self.proportion = np.around(proportion, decimals=2)\n",
      "        self.threshold = self.proportion*100\n",
      "        self.hashFunction = self.createHash(proportion)\n",
      "        self.key = key\n",
      "        self.sample = []\n",
      "    \n",
      "    def __len__(self):\n",
      "        return len(self.sample)\n",
      "    \n",
      "    def __iter__(self):\n",
      "        return iter(self.sample)\n",
      "    \n",
      "    def __getitem__(self, idx):\n",
      "        if len(self) <= idx:\n",
      "            return None\n",
      "        else:\n",
      "            return self.sample[idx]\n",
      "        \n",
      "    def __getslice__(self, startIdx, endIdx):\n",
      "        return self.sample[startIdx:endIdx]\n",
      "    \n",
      "    def createHash(self,proportion):\n",
      "        def newHash(value):\n",
      "            return hash(value) % 100 \n",
      "        return newHash\n",
      "    \n",
      "    def readData(self, newData):\n",
      "        if self.hashFunction(newData[self.key]) >= self.threshold:\n",
      "            return None\n",
      "        else:\n",
      "            self.sample.append(newData)\n",
      "    \n",
      "    def readStream(self, data):\n",
      "        for datum in data:\n",
      "            self.readData(datum)\n",
      "    \n",
      "test = StreamSampler(0.1, \"name\")\n",
      "\n",
      "testStream = [{\"name\":randomString(n=5)} for _ in xrange(1000)]\n",
      "\n",
      "test.readStream(testStream)\n",
      "\n",
      "print len(test)\n",
      "for item in test[10:13]:\n",
      "    print item\n",
      "    \n",
      "print test[45]"
     ],
     "language": "python",
     "metadata": {},
     "outputs": [
      {
       "output_type": "stream",
       "stream": "stdout",
       "text": [
        "95\n",
        "{'name': 'ABZ8B'}\n",
        "{'name': 'HMA9I'}\n",
        "{'name': 'YVZKQ'}\n",
        "{'name': 'Y2PB1'}\n"
       ]
      }
     ],
     "prompt_number": 42
    },
    {
     "cell_type": "code",
     "collapsed": false,
     "input": [
      "class BloomFilter(object):\n",
      "    def __init__(self, lengthArray, noHashes, keys):\n",
      "        self.bitArray = np.zeros(lengthArray)\n",
      "        self.hashes = self.createHashes(noHashes)\n",
      "        self.keys = set(keys)\n",
      "        self.hashKeys()\n",
      "    \n",
      "    def __len__(self):\n",
      "        return len(self.bitArray)\n",
      "    \n",
      "    def createHashes(self, noHashes):\n",
      "        def addRandomStuff():\n",
      "            adder = randomString(n=10)\n",
      "            def randomHash(value):\n",
      "                return hash(value + adder) % len(self)\n",
      "            return randomHash\n",
      "        return [addRandomStuff() for _ in xrange(noHashes)]\n",
      "    \n",
      "    def hashKeys(self):\n",
      "        for key in self.keys:\n",
      "            for hashFunc in self.hashes:\n",
      "                self.bitArray[hashFunc(key)] = 1\n",
      "                \n",
      "    def readData(self, datum):\n",
      "        indices = [hashFunc(datum) for hashFunc in self.hashes]\n",
      "        if any(self.bitArray[idx] == 0 for idx in indices):\n",
      "            return \"Not allowed\"\n",
      "        else:\n",
      "            return \"Accepted\"\n",
      "        \n",
      "    def readStream(self, data):\n",
      "        for datum in data:\n",
      "            self.readData(datum)"
     ],
     "language": "python",
     "metadata": {},
     "outputs": [],
     "prompt_number": 74
    },
    {
     "cell_type": "code",
     "collapsed": false,
     "input": [
      "keys = [randomString(n=10) for _ in xrange(1000)]\n",
      "bloom = BloomFilter(10**7, 10, keys)\n",
      "\n",
      "stream = keys + [randomString(n=10) for _ in xrange(10000)]\n",
      "\n",
      "allowed = []\n",
      "for thing in stream:\n",
      "    if bloom.readData(thing) == \"Accepted\":\n",
      "        allowed.append(thing)\n",
      "\n",
      "#print len(keys), len(allowed)\n",
      "allowed, keys = sorted(allowed), sorted(keys)"
     ],
     "language": "python",
     "metadata": {},
     "outputs": [],
     "prompt_number": 79
    },
    {
     "cell_type": "code",
     "collapsed": false,
     "input": [
      "idx = 0\n",
      "\n",
      "while allowed[idx] == keys[idx]:\n",
      "    idx += 1\n",
      "    if idx == 1000:\n",
      "        break\n",
      "print idx"
     ],
     "language": "python",
     "metadata": {},
     "outputs": [
      {
       "output_type": "stream",
       "stream": "stdout",
       "text": [
        "1000\n"
       ]
      }
     ],
     "prompt_number": 82
    },
    {
     "cell_type": "code",
     "collapsed": false,
     "input": [],
     "language": "python",
     "metadata": {},
     "outputs": []
    }
   ],
   "metadata": {}
  }
 ]
}