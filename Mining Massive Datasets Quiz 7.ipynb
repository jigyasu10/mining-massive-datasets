{
 "metadata": {
  "name": "",
  "signature": "sha256:cb51b539bb3716286fce8b71302ccec13974a00f414b6cf9198ae539b3e44b92"
 },
 "nbformat": 3,
 "nbformat_minor": 0,
 "worksheets": [
  {
   "cells": [
    {
     "cell_type": "code",
     "collapsed": false,
     "input": [
      "import numpy as np"
     ],
     "language": "python",
     "metadata": {},
     "outputs": [],
     "prompt_number": 3
    },
    {
     "cell_type": "heading",
     "level": 3,
     "metadata": {},
     "source": [
      "Basic Q1:"
     ]
    },
    {
     "cell_type": "markdown",
     "metadata": {},
     "source": [
      "Compute the Topic-Specific PageRank for the following link topology. \n",
      "* Assume that pages selected for the teleport set are nodes 1 and 2 and that in the teleport set, the weight assigned for node 1 is twice that of node 2. \n",
      "* Assume further that the teleport probability, (1 - beta), is 0.3. \n",
      "\n",
      "Which of the following statements is correct?\n",
      "\n",
      "* TSPR(2) = .2252\n",
      "* TSPR(2) = .8998\n",
      "* TSPR(3) = .1092\n",
      "* TSPR(4) = .4787"
     ]
    },
    {
     "cell_type": "code",
     "collapsed": false,
     "input": [
      "from IPython.display import Image\n",
      "Image(url=\"https://d396qusza40orc.cloudfront.net/mmds/images/otc_pagerank4.gif\")"
     ],
     "language": "python",
     "metadata": {},
     "outputs": [
      {
       "html": [
        "<img src=\"https://d396qusza40orc.cloudfront.net/mmds/images/otc_pagerank4.gif\"/>"
       ],
       "metadata": {},
       "output_type": "pyout",
       "prompt_number": 17,
       "text": [
        "<IPython.core.display.Image at 0x42d8978>"
       ]
      }
     ],
     "prompt_number": 17
    },
    {
     "cell_type": "code",
     "collapsed": false,
     "input": [
      "beta= 0.7\n",
      "nodes = 4\n",
      "teleportSet = 2\n",
      "M = np.matrix([ [0,   1., 0,  0]\n",
      "               ,[0.5, 0,  0,  0]\n",
      "               ,[0.5, 0,  0,  1.]\n",
      "               ,[0,   0,  1., 0]])\n",
      "#print M\n",
      "f = np.matrix([4./3., 2./3.,0,0])\n",
      "e = np.matrix(np.repeat(1, nodes))\n",
      "print \"We redistribute the missing page rank to the rows of the teleport set!\"\n",
      "print np.multiply(e, f.T)\n",
      "formula = beta*M+(1-beta)*(1./teleportSet)*np.multiply(e, f.T)\n",
      "print formula\n",
      "print np.sum(formula)"
     ],
     "language": "python",
     "metadata": {},
     "outputs": [
      {
       "output_type": "stream",
       "stream": "stdout",
       "text": [
        "We redistribute the missing page rank to the rows of the teleport set!\n",
        "[[ 1.33333333  1.33333333  1.33333333  1.33333333]\n",
        " [ 0.66666667  0.66666667  0.66666667  0.66666667]\n",
        " [ 0.          0.          0.          0.        ]\n",
        " [ 0.          0.          0.          0.        ]]\n",
        "[[ 0.2   0.9   0.2   0.2 ]\n",
        " [ 0.45  0.1   0.1   0.1 ]\n",
        " [ 0.35  0.    0.    0.7 ]\n",
        " [ 0.    0.    0.7   0.  ]]\n",
        "4.0\n"
       ]
      }
     ],
     "prompt_number": 66
    },
    {
     "cell_type": "code",
     "collapsed": false,
     "input": [
      "r = np.matrix([0.25, 0.25, 0.25, 0.25]).T\n",
      "\n",
      "for _ in range(10):\n",
      "    r = np.dot(formula,r)/np.sum(np.dot(formula,r))\n",
      "    print r.T\n",
      "    \n",
      "print r.T"
     ],
     "language": "python",
     "metadata": {},
     "outputs": [
      {
       "output_type": "stream",
       "stream": "stdout",
       "text": [
        "[[ 0.375   0.1875  0.2625  0.175 ]]\n",
        "[[ 0.33125  0.23125  0.25375  0.18375]]\n",
        "[[ 0.361875   0.2159375  0.2445625  0.177625 ]]\n",
        "[[ 0.35115625  0.22665625  0.25099375  0.17119375]]\n",
        "[[ 0.35865938  0.22290469  0.24274031  0.17569562]]\n",
        "[[ 0.35603328  0.22553078  0.24851772  0.16991822]]\n",
        "[[ 0.35787155  0.22461165  0.2435544   0.1739624 ]]\n",
        "[[ 0.35722815  0.22525504  0.24702872  0.17048808]]\n",
        "[[ 0.35767853  0.22502985  0.24437151  0.17292011]]\n",
        "[[ 0.3575209   0.22518749  0.24623156  0.17106006]]\n",
        "[[ 0.3575209   0.22518749  0.24623156  0.17106006]]\n"
       ]
      }
     ],
     "prompt_number": 67
    },
    {
     "cell_type": "heading",
     "level": 3,
     "metadata": {},
     "source": [
      "Basic Q2:"
     ]
    },
    {
     "cell_type": "code",
     "collapsed": false,
     "input": [
      "Image(url=\"https://d396qusza40orc.cloudfront.net/mmds/images/otc_spamfarm1.gif\", height=500, width=300)"
     ],
     "language": "python",
     "metadata": {},
     "outputs": [
      {
       "html": [
        "<img src=\"https://d396qusza40orc.cloudfront.net/mmds/images/otc_spamfarm1.gif\" width=\"300\" height=\"500\"/>"
       ],
       "metadata": {},
       "output_type": "pyout",
       "prompt_number": 74,
       "text": [
        "<IPython.core.display.Image at 0x42d84a8>"
       ]
      }
     ],
     "prompt_number": 74
    },
    {
     "cell_type": "markdown",
     "metadata": {},
     "source": [
      "$x$ = outside contribution page rank\n",
      "\n",
      "$n$ = total number of pages in the web\n",
      "\n",
      "page rank of $k$ second tier pages = $\\beta \\frac{y}{k} + \\frac{(1-\\beta)}{n} = w$\n",
      "\n",
      "page rank of $m$ supporters = $\\beta w + \\frac{(1-\\beta)}{n}$\n",
      "\n",
      "Thus the page rank $y$ of the page t is:\n",
      "\n",
      "$$y = x + \\beta m \\left(\\beta w + \\frac{(1-\\beta)}{n}\\right) + \\frac{(1-\\beta)}{n}$$\n",
      "\n",
      "or, outside contribution, plus $\\beta$ the page rank of the in-linking pages plus the random teleport stuff.\n",
      "\n",
      "Rearranging we get:\n",
      "\n",
      "$$y = \\frac{x}{(1 - \\beta^3)} + \\frac{k(1-\\beta)}{n(1-\\beta^3)}+ \\frac{m (1-\\beta)}{n (1-\\beta^3)} + \\frac{1-\\beta}{n(1-\\beta^3)}$$"
     ]
    },
    {
     "cell_type": "code",
     "collapsed": false,
     "input": [
      "a = lambda x: 1./(1-x**3)\n",
      "b = lambda x: x*(1.-x)*a(x)\n",
      "c = lambda x: b(x)/x\n",
      "\n",
      "print a(0.85)\n",
      "print b(0.85)\n",
      "print c(0.85)"
     ],
     "language": "python",
     "metadata": {},
     "outputs": [
      {
       "output_type": "stream",
       "stream": "stdout",
       "text": [
        "2.59151279559\n",
        "0.330417881438\n",
        "0.388726919339\n"
       ]
      }
     ],
     "prompt_number": 79
    },
    {
     "cell_type": "heading",
     "level": 3,
     "metadata": {},
     "source": [
      "Advanced Q1:"
     ]
    },
    {
     "cell_type": "code",
     "collapsed": false,
     "input": [],
     "language": "python",
     "metadata": {},
     "outputs": []
    }
   ],
   "metadata": {}
  }
 ]
}