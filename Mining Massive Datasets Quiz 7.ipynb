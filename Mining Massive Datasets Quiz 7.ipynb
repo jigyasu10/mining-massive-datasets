{
 "metadata": {
  "name": "",
  "signature": "sha256:28533f4b50cf644ec26984775a646464df37243ad569360d91676fe8373853b7"
 },
 "nbformat": 3,
 "nbformat_minor": 0,
 "worksheets": [
  {
   "cells": [
    {
     "cell_type": "code",
     "collapsed": false,
     "input": [
      "import numpy as np"
     ],
     "language": "python",
     "metadata": {},
     "outputs": [],
     "prompt_number": 3
    },
    {
     "cell_type": "heading",
     "level": 3,
     "metadata": {},
     "source": [
      "Basic Q1:"
     ]
    },
    {
     "cell_type": "markdown",
     "metadata": {},
     "source": [
      "Compute the Topic-Specific PageRank for the following link topology. \n",
      "* Assume that pages selected for the teleport set are nodes 1 and 2 and that in the teleport set, the weight assigned for node 1 is twice that of node 2. \n",
      "* Assume further that the teleport probability, (1 - beta), is 0.3. \n",
      "\n",
      "Which of the following statements is correct?\n",
      "\n",
      "* TSPR(2) = .2252\n",
      "* TSPR(2) = .8998\n",
      "* TSPR(3) = .1092\n",
      "* TSPR(4) = .4787"
     ]
    },
    {
     "cell_type": "code",
     "collapsed": false,
     "input": [
      "from IPython.display import Image\n",
      "Image(url=\"https://d396qusza40orc.cloudfront.net/mmds/images/otc_pagerank4.gif\")"
     ],
     "language": "python",
     "metadata": {},
     "outputs": [
      {
       "html": [
        "<img src=\"https://d396qusza40orc.cloudfront.net/mmds/images/otc_pagerank4.gif\"/>"
       ],
       "metadata": {},
       "output_type": "pyout",
       "prompt_number": 17,
       "text": [
        "<IPython.core.display.Image at 0x42d8978>"
       ]
      }
     ],
     "prompt_number": 17
    },
    {
     "cell_type": "code",
     "collapsed": false,
     "input": [
      "beta= 0.7\n",
      "nodes = 4\n",
      "teleportSet = 2\n",
      "M = np.matrix([ [0,   1., 0,  0]\n",
      "               ,[0.5, 0,  0,  0]\n",
      "               ,[0.5, 0,  0,  1.]\n",
      "               ,[0,   0,  1., 0]])\n",
      "#print M\n",
      "f = np.matrix([4./3., 2./3.,0,0])\n",
      "e = np.matrix(np.repeat(1, nodes))\n",
      "print \"We redistribute the missing page rank to the rows of the teleport set!\"\n",
      "print np.multiply(e, f.T)\n",
      "formula = beta*M+(1-beta)*(1./teleportSet)*np.multiply(e, f.T)\n",
      "print formula\n",
      "print np.sum(formula)"
     ],
     "language": "python",
     "metadata": {},
     "outputs": [
      {
       "output_type": "stream",
       "stream": "stdout",
       "text": [
        "We redistribute the missing page rank to the rows of the teleport set!\n",
        "[[ 1.33333333  1.33333333  1.33333333  1.33333333]\n",
        " [ 0.66666667  0.66666667  0.66666667  0.66666667]\n",
        " [ 0.          0.          0.          0.        ]\n",
        " [ 0.          0.          0.          0.        ]]\n",
        "[[ 0.2   0.9   0.2   0.2 ]\n",
        " [ 0.45  0.1   0.1   0.1 ]\n",
        " [ 0.35  0.    0.    0.7 ]\n",
        " [ 0.    0.    0.7   0.  ]]\n",
        "4.0\n"
       ]
      }
     ],
     "prompt_number": 66
    },
    {
     "cell_type": "code",
     "collapsed": false,
     "input": [
      "r = np.matrix([0.25, 0.25, 0.25, 0.25]).T\n",
      "\n",
      "for _ in range(10):\n",
      "    r = np.dot(formula,r)/np.sum(np.dot(formula,r))\n",
      "    print r.T\n",
      "    \n",
      "print r.T"
     ],
     "language": "python",
     "metadata": {},
     "outputs": [
      {
       "output_type": "stream",
       "stream": "stdout",
       "text": [
        "[[ 0.375   0.1875  0.2625  0.175 ]]\n",
        "[[ 0.33125  0.23125  0.25375  0.18375]]\n",
        "[[ 0.361875   0.2159375  0.2445625  0.177625 ]]\n",
        "[[ 0.35115625  0.22665625  0.25099375  0.17119375]]\n",
        "[[ 0.35865938  0.22290469  0.24274031  0.17569562]]\n",
        "[[ 0.35603328  0.22553078  0.24851772  0.16991822]]\n",
        "[[ 0.35787155  0.22461165  0.2435544   0.1739624 ]]\n",
        "[[ 0.35722815  0.22525504  0.24702872  0.17048808]]\n",
        "[[ 0.35767853  0.22502985  0.24437151  0.17292011]]\n",
        "[[ 0.3575209   0.22518749  0.24623156  0.17106006]]\n",
        "[[ 0.3575209   0.22518749  0.24623156  0.17106006]]\n"
       ]
      }
     ],
     "prompt_number": 67
    },
    {
     "cell_type": "heading",
     "level": 3,
     "metadata": {},
     "source": [
      "Basic Q2:"
     ]
    },
    {
     "cell_type": "code",
     "collapsed": false,
     "input": [
      "Image(url=\"https://d396qusza40orc.cloudfront.net/mmds/images/otc_spamfarm1.gif\", height=500, width=300)"
     ],
     "language": "python",
     "metadata": {},
     "outputs": [
      {
       "html": [
        "<img src=\"https://d396qusza40orc.cloudfront.net/mmds/images/otc_spamfarm1.gif\" width=\"300\" height=\"500\"/>"
       ],
       "metadata": {},
       "output_type": "pyout",
       "prompt_number": 74,
       "text": [
        "<IPython.core.display.Image at 0x42d84a8>"
       ]
      }
     ],
     "prompt_number": 74
    },
    {
     "cell_type": "markdown",
     "metadata": {},
     "source": [
      "$x$ = outside contribution page rank\n",
      "\n",
      "$n$ = total number of pages in the web\n",
      "\n",
      "page rank of $k$ second tier pages = $\\beta \\frac{y}{k} + \\frac{(1-\\beta)}{n} = w$\n",
      "\n",
      "page rank of $m$ supporters = $\\beta w + \\frac{(1-\\beta)}{n}$\n",
      "\n",
      "Thus the page rank $y$ of the page t is:\n",
      "\n",
      "$$y = x + \\beta m \\left(\\beta w + \\frac{(1-\\beta)}{n}\\right) + \\frac{(1-\\beta)}{n}$$\n",
      "\n",
      "or, outside contribution, plus $\\beta$ the page rank of the in-linking pages plus the random teleport stuff.\n",
      "\n",
      "Rearranging we get:\n",
      "\n",
      "$$y = \\frac{x}{(1 - \\beta^3)} + \\frac{k(1-\\beta)}{n(1-\\beta^3)}+ \\frac{m (1-\\beta)}{n (1-\\beta^3)} + \\frac{1-\\beta}{n(1-\\beta^3)}$$"
     ]
    },
    {
     "cell_type": "code",
     "collapsed": false,
     "input": [
      "a = lambda x: 1./(1-x**3)\n",
      "b = lambda x: x*(1.-x)*a(x)\n",
      "c = lambda x: b(x)/x\n",
      "\n",
      "print a(0.85)\n",
      "print b(0.85)\n",
      "print c(0.85)"
     ],
     "language": "python",
     "metadata": {},
     "outputs": [
      {
       "output_type": "stream",
       "stream": "stdout",
       "text": [
        "2.59151279559\n",
        "0.330417881438\n",
        "0.388726919339\n"
       ]
      }
     ],
     "prompt_number": 79
    },
    {
     "cell_type": "heading",
     "level": 3,
     "metadata": {},
     "source": [
      "Advanced Q1:"
     ]
    },
    {
     "cell_type": "markdown",
     "metadata": {},
     "source": [
      "Suppose we have an LSH family h of (d1,d2,.6,.4) hash functions. We can use three functions from h and the AND-construction to form a (d1,d2,w,x) family, and we can use two functions from h and the OR-construction to form a (d1,d2,y,z) family. Calculate w, x, y, and z, and then identify the correct value of one of these in the list below:\n",
      "\n",
      "* x=.16\n",
      "* y=.84\n",
      "* z=.784\n",
      "* y=.64"
     ]
    },
    {
     "cell_type": "code",
     "collapsed": false,
     "input": [
      "#(d1,d2,.6,.4) implies will pair up if distance <=d1 with probability >= 0.6\n",
      "# and if distance >=d2 then the probability of pairing is <= 0.4\n",
      "\n",
      "#AND construction\n",
      "#we raise to the power 3 since there are 3 has functions\n",
      "w = 0.6**3\n",
      "x = 0.4**3\n",
      "\n",
      "#OR construction\n",
      "y = 1 - (1 - 0.6)**2\n",
      "z = 1 - (1 - 0.4)**2\n",
      "print w,x,y,z"
     ],
     "language": "python",
     "metadata": {},
     "outputs": [
      {
       "output_type": "stream",
       "stream": "stdout",
       "text": [
        "0.216 0.064 0.84 0.64\n"
       ]
      }
     ],
     "prompt_number": 80
    },
    {
     "cell_type": "heading",
     "level": 3,
     "metadata": {},
     "source": [
      "Advanced Q2:"
     ]
    },
    {
     "cell_type": "markdown",
     "metadata": {},
     "source": [
      "* s1 = abcef\n",
      "* s2 = acdeg\n",
      "* s3 = bcdefg\n",
      "* s4 = adfg\n",
      "* s5 = bcdfgh\n",
      "* s6 = bceg\n",
      "* s7 = cdfg\n",
      "* s8 = abcd\n",
      "\n",
      "Suppose our upper limit on Jaccard distance is 0.2, and we use the indexing scheme of Section 3.9.4 based on symbols appearing in the prefix (no position or length information). For each of s1, s3, and s6, determine how many other strings that string will be compared with, if it is used as the probe string. Then, identify the true count from the list below.\n",
      "\n",
      "* s6 is compared with 3 other strings.\n",
      "* s1 is compared with 3 other strings.\n",
      "* s6 is compared with 2 other strings.\n",
      "* s6 is compared with 6 other strings."
     ]
    },
    {
     "cell_type": "code",
     "collapsed": false,
     "input": [
      "stringInfo= [(1, 5),(2, 5),(3,6),(4,4),(5,6),(6,4),(7,4),(8,4)]\n",
      "strings= [\"abcef\", \"acdeg\", \"bcdefg\", \"adfg\", \"bcdfgh\", \"bceg\", \"cdfg\", \"abcd\"]\n",
      "\n",
      "d = dict(zip(\"abcdefgh\", [[] for _ in xrange(8)]))\n",
      "j = 0.2\n",
      "for (name, length), s in zip(stringInfo, strings):\n",
      "    p = int(j*length) + 1\n",
      "    for char in strings[name - 1][:p]:\n",
      "        d[char].append(name)\n",
      "    print \"String {} indexed on the first {} symbols\".format(name, p)\n",
      "    \n",
      "for key, value in d.iteritems():\n",
      "    print key, value"
     ],
     "language": "python",
     "metadata": {},
     "outputs": [
      {
       "output_type": "stream",
       "stream": "stdout",
       "text": [
        "String 1 indexed on the first 2 symbols\n",
        "String 2 indexed on the first 2 symbols\n",
        "String 3 indexed on the first 2 symbols\n",
        "String 4 indexed on the first 1 symbols\n",
        "String 5 indexed on the first 2 symbols\n",
        "String 6 indexed on the first 1 symbols\n",
        "String 7 indexed on the first 1 symbols\n",
        "String 8 indexed on the first 1 symbols\n",
        "a [1, 2, 4, 8]\n",
        "c [2, 3, 5, 7]\n",
        "b [1, 3, 5, 6]\n",
        "e []\n",
        "d []\n",
        "g []\n",
        "f []\n",
        "h []\n"
       ]
      }
     ],
     "prompt_number": 89
    },
    {
     "cell_type": "code",
     "collapsed": false,
     "input": [],
     "language": "python",
     "metadata": {},
     "outputs": []
    }
   ],
   "metadata": {}
  }
 ]
}