{
 "metadata": {
  "name": "",
  "signature": "sha256:6bf7af5e680f176aa2dac8d465a4b2d3ec86b5d1122237140c89b9abd680254f"
 },
 "nbformat": 3,
 "nbformat_minor": 0,
 "worksheets": [
  {
   "cells": [
    {
     "cell_type": "heading",
     "level": 3,
     "metadata": {},
     "source": [
      "Task"
     ]
    },
    {
     "cell_type": "markdown",
     "metadata": {},
     "source": [
      "This assignment is an optional challenge and it won't count in your final grade.\n",
      "\n",
      "Your task is to quickly find the number of pairs of sentences that are at the word-level edit distance at most 1. Two sentences S1 and S2 they are at edit distance 1 if S1 can be transformed to S2 by: adding, removing or substituting a single word.\n",
      "\n",
      "For example, consider the following sentences where each letter represents a word:\n",
      "* S1: A B C D\n",
      "* S2: A B X D\n",
      "* S3: A B C\n",
      "* S4: A B X C\n",
      "Then pairs the following pairs of sentences are at word edit distance 1 or less: (S1, S2), (S1, S3), (S2, S4), (S3, S4).\n",
      "\n",
      "The input data has 9,397,023 sentences, each one divided by a new line and with the sentence id at the beginning of the line. The zip compressed file size is around 500MB and it's located here.\n",
      "All sentences in the input data are at least 10 words long. A straightforward LSH approach like the one taught in class for jaccard similarity can be used to solve this problem, however it may not necessarily be the faster approach.\n",
      "\n",
      "Submit the number of similar pairs you find as a number without comas. For example, if you find 12,345 pairs, submit 12345.\n",
      "\n",
      "Be creative, share your ideas in the forum, and most importantly, have fun!"
     ]
    },
    {
     "cell_type": "code",
     "collapsed": false,
     "input": [
      "def jaccardSim(set1, set2):\n",
      "    return len(set1.intersection(set2))*1./len(set1.union(set2))\n",
      "\n",
      "a = set([1,2,3,4])\n",
      "b = set([1,2])\n",
      "c = set([1,2,3])\n",
      "\n",
      "print jaccardSim(a,b)\n",
      "print jaccardSim(b,c)\n",
      "print jaccardSim(a,c)"
     ],
     "language": "python",
     "metadata": {},
     "outputs": [
      {
       "output_type": "stream",
       "stream": "stdout",
       "text": [
        "0.5\n",
        "0.666666666667\n",
        "0.75\n"
       ]
      }
     ],
     "prompt_number": 4
    },
    {
     "cell_type": "code",
     "collapsed": false,
     "input": [
      "!pip install lshash"
     ],
     "language": "python",
     "metadata": {},
     "outputs": [
      {
       "output_type": "stream",
       "stream": "stdout",
       "text": [
        "Downloading/unpacking lshash\n",
        "  Could not find a version that satisfies the requirement lshash (from versions: 0.0.2dev, 0.0.3dev, 0.0.4dev)\n",
        "Cleaning up...\n",
        "No distributions matching the version for lshash\n",
        "Storing debug log for failure in C:\\Users\\andrewd\\pip\\pip.log\n"
       ]
      }
     ],
     "prompt_number": 5
    },
    {
     "cell_type": "code",
     "collapsed": false,
     "input": [
      "with open(r\"C:\\Users\\andrewd\\Desktop\\sentences\\sentences.txt\", \"rb\") as f:\n",
      "    for idx, line in enumerate(f):\n",
      "                \n",
      "        if idx > 1:\n",
      "            break\n",
      "            \n",
      "        print line[2:].split()"
     ],
     "language": "python",
     "metadata": {},
     "outputs": [
      {
       "output_type": "stream",
       "stream": "stdout",
       "text": [
        "['how', 'to', 'create', 'property', 'binding', 'in', 'a', 'visual', 'webgui', 'silverlight', 'control']\n",
        "['videoplayer', 'silverlight', 'controls', 'videoplayer', 'videoplayer', 'silverlight', 'controls', 'version', '1', '0', '0', '0', 'culture', 'neutral', 'publickeytoken', 'null']\n"
       ]
      }
     ],
     "prompt_number": 3
    }
   ],
   "metadata": {}
  }
 ]
}