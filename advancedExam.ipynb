{
 "metadata": {
  "name": "",
  "signature": "sha256:66ff53db8bab185761774553ca7d6397dfb67358dd1b2d36a83f59739ac740ae"
 },
 "nbformat": 3,
 "nbformat_minor": 0,
 "worksheets": [
  {
   "cells": [
    {
     "cell_type": "code",
     "collapsed": false,
     "input": [
      "import numpy as np\n",
      "from math import floor"
     ],
     "language": "python",
     "metadata": {},
     "outputs": [],
     "prompt_number": 20
    },
    {
     "cell_type": "heading",
     "level": 3,
     "metadata": {},
     "source": [
      "Question 2:"
     ]
    },
    {
     "cell_type": "code",
     "collapsed": false,
     "input": [
      "# hereJ= 0.2 - confusion between Jaccard distance and similarity\n",
      "\n",
      "#buckets indexed on\n",
      "J = 0.8\n",
      "length = 24\n",
      "\n",
      "print floor((1-J)*length) + 1"
     ],
     "language": "python",
     "metadata": {},
     "outputs": [
      {
       "output_type": "stream",
       "stream": "stdout",
       "text": [
        "5.0\n"
       ]
      }
     ],
     "prompt_number": 67
    },
    {
     "cell_type": "code",
     "collapsed": false,
     "input": [
      "i= 20\n",
      "\n",
      "print (length*(1-J) - i + 1 + J)*1./J"
     ],
     "language": "python",
     "metadata": {},
     "outputs": [
      {
       "output_type": "stream",
       "stream": "stdout",
       "text": [
        "2.0\n"
       ]
      }
     ],
     "prompt_number": 11
    },
    {
     "cell_type": "heading",
     "level": 3,
     "metadata": {},
     "source": [
      "Question 3:"
     ]
    },
    {
     "cell_type": "markdown",
     "metadata": {},
     "source": [
      "We say that PCY is effective if the average count of a bucket is at most half the support value. For the given data, what is the smallest support value for which PCY will be effective?"
     ]
    },
    {
     "cell_type": "code",
     "collapsed": false,
     "input": [
      "items = 100000000.\n",
      "baskets= 100000000.\n",
      "itemsInBaskets = 10.\n",
      "bytes = 4.\n",
      "\n",
      "mainMemory=1000000000."
     ],
     "language": "python",
     "metadata": {},
     "outputs": [],
     "prompt_number": 70
    },
    {
     "cell_type": "code",
     "collapsed": false,
     "input": [
      "otherStuff = items*4 #integer count stores\n",
      "\n",
      "buckets = (mainMemory - otherStuff)/bytes\n",
      "print buckets"
     ],
     "language": "python",
     "metadata": {},
     "outputs": [
      {
       "output_type": "stream",
       "stream": "stdout",
       "text": [
        "150000000.0\n"
       ]
      }
     ],
     "prompt_number": 75
    },
    {
     "cell_type": "code",
     "collapsed": false,
     "input": [
      "noPairs = baskets * 45 # 10 choose 2\n",
      "print noPairs\n",
      "#also equals sum of counts in the buckets"
     ],
     "language": "python",
     "metadata": {},
     "outputs": [
      {
       "output_type": "stream",
       "stream": "stdout",
       "text": [
        "4500000000.0\n"
       ]
      }
     ],
     "prompt_number": 76
    },
    {
     "cell_type": "code",
     "collapsed": false,
     "input": [
      "avgBucketCount = noPairs/buckets\n",
      "print avgBucketCount"
     ],
     "language": "python",
     "metadata": {},
     "outputs": [
      {
       "output_type": "stream",
       "stream": "stdout",
       "text": [
        "30.0\n"
       ]
      }
     ],
     "prompt_number": 77
    },
    {
     "cell_type": "heading",
     "level": 3,
     "metadata": {},
     "source": [
      "Question 7:"
     ]
    },
    {
     "cell_type": "code",
     "collapsed": false,
     "input": [
      "#rows are where they go\n",
      "L =np.matrix([[0,1,0,0]\n",
      "              ,[0,0,1,0]\n",
      "              ,[0,0,0,1]\n",
      "              ,[0,0,0,0]])\n",
      "\n",
      "h = np.matrix([1.,1.,1.,1.]).T\n",
      "\n",
      "for _ in xrange(5):\n",
      "    a = np.dot(L.T, h)\n",
      "    a = a/np.max(a)\n",
      "    h = np.dot(L, a)\n",
      "    h = h/np.max(h)\n",
      "    #print \"*\" * 5, _\n",
      "    #print \"hubs\", np.round(h.T, decimals=3) \n",
      "    #print \"authorities\", np.round(a.T, decimals=3)\n",
      "    \n",
      "print \"hubs\", np.round(h.T, decimals=3) \n",
      "print \"authorities\", np.round(a.T, decimals=3)"
     ],
     "language": "python",
     "metadata": {},
     "outputs": [
      {
       "output_type": "stream",
       "stream": "stdout",
       "text": [
        "hubs [[ 1.  1.  1.  0.]]\n",
        "authorities [[ 0.  1.  1.  1.]]\n"
       ]
      }
     ],
     "prompt_number": 23
    },
    {
     "cell_type": "heading",
     "level": 3,
     "metadata": {},
     "source": [
      "Question 8:"
     ]
    },
    {
     "cell_type": "code",
     "collapsed": false,
     "input": [
      "import networkx as nx\n",
      "%matplotlib inline"
     ],
     "language": "python",
     "metadata": {},
     "outputs": [],
     "prompt_number": 36
    },
    {
     "cell_type": "code",
     "collapsed": false,
     "input": [
      "adj = np.ones((5,5))\n",
      "print adj\n",
      "deg = np.identity(5)*np.repeat(5, 5)\n",
      "print deg\n",
      "\n",
      "laplacian = deg - adj\n",
      "print laplacian"
     ],
     "language": "python",
     "metadata": {},
     "outputs": [
      {
       "output_type": "stream",
       "stream": "stdout",
       "text": [
        "[[ 1.  1.  1.  1.  1.]\n",
        " [ 1.  1.  1.  1.  1.]\n",
        " [ 1.  1.  1.  1.  1.]\n",
        " [ 1.  1.  1.  1.  1.]\n",
        " [ 1.  1.  1.  1.  1.]]\n",
        "[[ 5.  0.  0.  0.  0.]\n",
        " [ 0.  5.  0.  0.  0.]\n",
        " [ 0.  0.  5.  0.  0.]\n",
        " [ 0.  0.  0.  5.  0.]\n",
        " [ 0.  0.  0.  0.  5.]]\n",
        "[[ 4. -1. -1. -1. -1.]\n",
        " [-1.  4. -1. -1. -1.]\n",
        " [-1. -1.  4. -1. -1.]\n",
        " [-1. -1. -1.  4. -1.]\n",
        " [-1. -1. -1. -1.  4.]]\n"
       ]
      }
     ],
     "prompt_number": 31
    },
    {
     "cell_type": "code",
     "collapsed": false,
     "input": [
      "print np.sum(laplacian ** 2)"
     ],
     "language": "python",
     "metadata": {},
     "outputs": [
      {
       "output_type": "stream",
       "stream": "stdout",
       "text": [
        "100.0\n"
       ]
      }
     ],
     "prompt_number": 33
    },
    {
     "cell_type": "code",
     "collapsed": false,
     "input": [
      "g = nx.complete_graph(5)\n",
      "nx.draw_circular(g)"
     ],
     "language": "python",
     "metadata": {},
     "outputs": [
      {
       "metadata": {},
       "output_type": "display_data",
       "png": "[encoded data removed]",
       "text": [
        "<matplotlib.figure.Figure at 0x458d240>"
       ]
      }
     ],
     "prompt_number": 39
    },
    {
     "cell_type": "code",
     "collapsed": false,
     "input": [
      "laplacian - nx.laplacian_matrix(g)"
     ],
     "language": "python",
     "metadata": {},
     "outputs": [
      {
       "metadata": {},
       "output_type": "pyout",
       "prompt_number": 43,
       "text": [
        "matrix([[ 0.,  0.,  0.,  0.,  0.],\n",
        "        [ 0.,  0.,  0.,  0.,  0.],\n",
        "        [ 0.,  0.,  0.,  0.,  0.],\n",
        "        [ 0.,  0.,  0.,  0.,  0.],\n",
        "        [ 0.,  0.,  0.,  0.,  0.]])"
       ]
      }
     ],
     "prompt_number": 43
    },
    {
     "cell_type": "heading",
     "level": 3,
     "metadata": {},
     "source": [
      "Question 10:"
     ]
    },
    {
     "cell_type": "code",
     "collapsed": false,
     "input": [
      "data = [(\"A\", 1, 20), (\"B\", 2, 40), (\"C\", 3, 60), (\"D\", 4, 80)]"
     ],
     "language": "python",
     "metadata": {},
     "outputs": [],
     "prompt_number": 44
    },
    {
     "cell_type": "code",
     "collapsed": false,
     "input": [
      "for ad, bid, spent in data:\n",
      "    remainingFrac = (100 - spent)*1./100\n",
      "    print remainingFrac\n",
      "    print \"Advertiser {}: {}\".format(ad, bid*(1 - np.exp(-remainingFrac)))"
     ],
     "language": "python",
     "metadata": {},
     "outputs": [
      {
       "output_type": "stream",
       "stream": "stdout",
       "text": [
        "0.8\n",
        "Advertiser A: 0.550671035883\n",
        "0.6\n",
        "Advertiser B: 0.902376727812\n",
        "0.4\n",
        "Advertiser C: 0.989039861893\n",
        "0.2\n",
        "Advertiser D: 0.725076987688\n"
       ]
      }
     ],
     "prompt_number": 68
    },
    {
     "cell_type": "heading",
     "level": 3,
     "metadata": {},
     "source": [
      "Question 12:"
     ]
    },
    {
     "cell_type": "code",
     "collapsed": false,
     "input": [
      "from sklearn import tree"
     ],
     "language": "python",
     "metadata": {},
     "outputs": [],
     "prompt_number": 46
    },
    {
     "cell_type": "code",
     "collapsed": false,
     "input": [
      "X = [[1,0,1]\n",
      "     ,[0,1,1]\n",
      "     ,[0,0,0]\n",
      "     ,[1,1,1]\n",
      "     ,[1,1,0]\n",
      "     ,[0,0,0]\n",
      "     ,[1,1,1]\n",
      "     ,[0,1,0]\n",
      "     ,[1,0,1]\n",
      "     ,[1,0,1]     ]\n",
      "Y = [1,0,0,1,1,0,1,0,0,1]\n",
      "clf = tree.DecisionTreeClassifier(criterion=\"entropy\")\n",
      "clf = clf.fit(X, Y)"
     ],
     "language": "python",
     "metadata": {},
     "outputs": [],
     "prompt_number": 51
    },
    {
     "cell_type": "code",
     "collapsed": false,
     "input": [
      "def get_lineage(tree, feature_names):\n",
      "     left      = tree.tree_.children_left\n",
      "     right     = tree.tree_.children_right\n",
      "     threshold = tree.tree_.threshold\n",
      "     features  = [feature_names[i] for i in tree.tree_.feature]\n",
      "\n",
      "     # get ids of child nodes\n",
      "     idx = np.argwhere(left == -1)[:,0]     \n",
      "\n",
      "     def recurse(left, right, child, lineage=None):          \n",
      "          if lineage is None:\n",
      "               lineage = [child]\n",
      "          if child in left:\n",
      "               parent = np.where(left == child)[0].item()\n",
      "               split = 'l'\n",
      "          else:\n",
      "               parent = np.where(right == child)[0].item()\n",
      "               split = 'r'\n",
      "\n",
      "          lineage.append((parent, split, threshold[parent], features[parent]))\n",
      "\n",
      "          if parent == 0:\n",
      "               lineage.reverse()\n",
      "               return lineage\n",
      "          else:\n",
      "               return recurse(left, right, parent, lineage)\n",
      "\n",
      "     for child in idx:\n",
      "          for node in recurse(left, right, child):\n",
      "               print node"
     ],
     "language": "python",
     "metadata": {},
     "outputs": [],
     "prompt_number": 59
    },
    {
     "cell_type": "code",
     "collapsed": false,
     "input": [
      "get_lineage(clf, [\"choc\", \"vanilla\", \"straw\"])"
     ],
     "language": "python",
     "metadata": {},
     "outputs": [
      {
       "output_type": "stream",
       "stream": "stdout",
       "text": [
        "(0L, 'l', 0.5, 'choc')\n",
        "1\n",
        "(0L, 'r', 0.5, 'choc')\n",
        "(2L, 'l', 0.5, 'vanilla')\n",
        "3\n",
        "(0L, 'r', 0.5, 'choc')\n",
        "(2L, 'r', 0.5, 'vanilla')\n",
        "4\n"
       ]
      }
     ],
     "prompt_number": 61
    },
    {
     "cell_type": "heading",
     "level": 3,
     "metadata": {},
     "source": [
      "Question 14:"
     ]
    },
    {
     "cell_type": "code",
     "collapsed": false,
     "input": [
      "x = np.matrix([[-0.25, -0.5, -0.76, -0.29, -0.03, -0.07, -0.1]\n",
      "           ,[-0.05, -0.1, -0.15, 0.2, 0.26, 0.51, 0.77]]).T\n",
      "\n",
      "y = np.matrix([[-0.57,-0.11,-0.57,-0.11,-0.57]\n",
      "               ,[-0.09,0.7,-0.09,0.7,-0.09]]).T"
     ],
     "language": "python",
     "metadata": {},
     "outputs": [],
     "prompt_number": 62
    },
    {
     "cell_type": "code",
     "collapsed": false,
     "input": [
      "a = np.dot(np.matrix([5,0,0,0,0]), y)\n",
      "print a\n",
      "\n",
      "b = np.dot(np.matrix([0,5,0,0,0]), y)\n",
      "print b\n",
      "\n",
      "c = np.dot(np.matrix([0,0,0,0,4]), y)\n",
      "print c\n",
      "\n",
      "def cosineDist(a,b):\n",
      "    return np.dot(a,b.T)/(np.linalg.norm(a)*np.linalg.norm(b))\n",
      "\n",
      "print \"distance ab: {}\".format(cosineDist(a,b))\n",
      "print \"distance bc: {}\".format(cosineDist(b,c))\n",
      "print \"distance ac: {}\".format(cosineDist(a,c))"
     ],
     "language": "python",
     "metadata": {},
     "outputs": [
      {
       "output_type": "stream",
       "stream": "stdout",
       "text": [
        "[[-2.85 -0.45]]\n",
        "[[-0.55  3.5 ]]\n",
        "[[-2.28 -0.36]]\n",
        "distance ab: [[-0.00073368]]\n",
        "distance bc: [[-0.00073368]]\n",
        "distance ac: [[ 1.]]\n"
       ]
      }
     ],
     "prompt_number": 66
    },
    {
     "cell_type": "code",
     "collapsed": false,
     "input": [],
     "language": "python",
     "metadata": {},
     "outputs": []
    }
   ],
   "metadata": {}
  }
 ]
}