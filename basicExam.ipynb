{
 "metadata": {
  "name": "",
  "signature": "sha256:1f8342ee313c91234b8d63fd5354e385eada5674ae035a51357fdb901ed03b43"
 },
 "nbformat": 3,
 "nbformat_minor": 0,
 "worksheets": [
  {
   "cells": [
    {
     "cell_type": "code",
     "collapsed": false,
     "input": [
      "import numpy as np"
     ],
     "language": "python",
     "metadata": {},
     "outputs": [],
     "prompt_number": 4
    },
    {
     "cell_type": "heading",
     "level": 3,
     "metadata": {},
     "source": [
      "Question 1"
     ]
    },
    {
     "cell_type": "code",
     "collapsed": false,
     "input": [
      "def shingle(string, length):\n",
      "    return set(string[idx:idx+length] for idx in xrange(len(string)) if len(string[idx:idx+length]) == length)"
     ],
     "language": "python",
     "metadata": {},
     "outputs": [],
     "prompt_number": 70
    },
    {
     "cell_type": "code",
     "collapsed": false,
     "input": [
      "print shingle(\"hello world\", 3)\n",
      "print len(shingle(\"hello world\", 3))"
     ],
     "language": "python",
     "metadata": {},
     "outputs": [
      {
       "output_type": "stream",
       "stream": "stdout",
       "text": [
        "set(['lo ', 'ell', ' wo', 'wor', 'orl', 'o w', 'llo', 'rld', 'hel'])\n",
        "9\n"
       ]
      }
     ],
     "prompt_number": 71
    },
    {
     "cell_type": "heading",
     "level": 3,
     "metadata": {},
     "source": [
      "Question 3"
     ]
    },
    {
     "cell_type": "code",
     "collapsed": false,
     "input": [
      "lengths = 0\n",
      "\n",
      "for _ in xrange(100000):\n",
      "    lengths += len(set(np.random.randint(0,10,4)))\n",
      "   \n",
      "print lengths/100000."
     ],
     "language": "python",
     "metadata": {},
     "outputs": [
      {
       "output_type": "stream",
       "stream": "stdout",
       "text": [
        "3.44063\n"
       ]
      }
     ],
     "prompt_number": 72
    },
    {
     "cell_type": "code",
     "collapsed": false,
     "input": [
      "lengths = 0\n",
      "\n",
      "for _ in xrange(100000):\n",
      "    indices = set()\n",
      "    for t in xrange(2):\n",
      "        indices = indices.union(np.random.choice([_ for _ in xrange(10)], size=2, replace=False))\n",
      "    lengths += len(indices)\n",
      "print lengths/100000."
     ],
     "language": "python",
     "metadata": {},
     "outputs": [
      {
       "output_type": "stream",
       "stream": "stdout",
       "text": [
        "3.60019\n"
       ]
      }
     ],
     "prompt_number": 73
    },
    {
     "cell_type": "heading",
     "level": 3,
     "metadata": {},
     "source": [
      "Question 5:"
     ]
    },
    {
     "cell_type": "code",
     "collapsed": false,
     "input": [
      "print np.dot([2,1,1],[10,-7,1])\n",
      "print np.dot([2,1,1],[10,-7,1])/(np.linalg.norm([2,1,1])*np.linalg.norm([10,-7,1]))"
     ],
     "language": "python",
     "metadata": {},
     "outputs": [
      {
       "output_type": "stream",
       "stream": "stdout",
       "text": [
        "14\n",
        "0.466666666667\n"
       ]
      }
     ],
     "prompt_number": 74
    },
    {
     "cell_type": "heading",
     "level": 3,
     "metadata": {},
     "source": [
      "Question 6:"
     ]
    },
    {
     "cell_type": "code",
     "collapsed": false,
     "input": [
      "def prob(bands, rows, sim):\n",
      "    return 1 - (1 - sim**rows)**bands\n",
      "\n",
      "print prob(3,2,0.6)"
     ],
     "language": "python",
     "metadata": {},
     "outputs": [
      {
       "output_type": "stream",
       "stream": "stdout",
       "text": [
        "0.737856\n"
       ]
      }
     ],
     "prompt_number": 29
    },
    {
     "cell_type": "heading",
     "level": 3,
     "metadata": {},
     "source": [
      "Question 7:"
     ]
    },
    {
     "cell_type": "code",
     "collapsed": false,
     "input": [
      "#(.4, .6, .9, .1)\n",
      "\n",
      "print 1 - (1 - 0.9)**3\n",
      "print 1 - (1 - 0.1)**3"
     ],
     "language": "python",
     "metadata": {},
     "outputs": [
      {
       "output_type": "stream",
       "stream": "stdout",
       "text": [
        "0.999\n",
        "0.271\n"
       ]
      }
     ],
     "prompt_number": 30
    },
    {
     "cell_type": "heading",
     "level": 3,
     "metadata": {},
     "source": [
      "Question 9:"
     ]
    },
    {
     "cell_type": "code",
     "collapsed": false,
     "input": [
      "nodes = 4\n",
      "M = np.matrix([[0,0,0,0.25]\n",
      "               ,[1,0,0,0.25]\n",
      "               ,[0,1,0,0.25]\n",
      "               ,[0,0,1,0.25]])\n",
      "\n",
      "#M = np.matrix([[0.25,0.25,0.25,0.25]\n",
      "#               ,[1,0,0,0]\n",
      "#               ,[0,1,0,0]\n",
      "#               ,[0,0,1,0]])\n",
      "\n",
      "#instead of doing teleport seperately, add in the matrix M the 'missing' pagerank of D\n",
      "\n",
      "r = np.matrix([0.25, 0.25, 0.25, 0.25]).T\n",
      "\n",
      "for _ in range(100):\n",
      "    r = np.dot(M,r) \n",
      "    \n",
      "print r"
     ],
     "language": "python",
     "metadata": {},
     "outputs": [
      {
       "output_type": "stream",
       "stream": "stdout",
       "text": [
        "[[ 0.1]\n",
        " [ 0.2]\n",
        " [ 0.3]\n",
        " [ 0.4]]\n"
       ]
      }
     ],
     "prompt_number": 76
    },
    {
     "cell_type": "heading",
     "level": 3,
     "metadata": {},
     "source": [
      "Question 10:"
     ]
    },
    {
     "cell_type": "markdown",
     "metadata": {},
     "source": [
      "Community 1 consists of {A,B,C} and Community 2 consists of {B,C,D}. For Community 1 there is a 30% chance it will cause an edge between any two of its members. For Community 2 there is a 40% chance it will cause an edge between any two of its members."
     ]
    },
    {
     "cell_type": "code",
     "collapsed": false,
     "input": [
      "# B and C are members of both communities\n",
      "print 1 - (1-0.4)*(1-0.3)"
     ],
     "language": "python",
     "metadata": {},
     "outputs": [
      {
       "output_type": "stream",
       "stream": "stdout",
       "text": [
        "0.58\n"
       ]
      }
     ],
     "prompt_number": 34
    },
    {
     "cell_type": "heading",
     "level": 3,
     "metadata": {},
     "source": [
      "Question 11:"
     ]
    },
    {
     "cell_type": "code",
     "collapsed": false,
     "input": [
      "#not x!\n",
      "x = np.matrix([[-0.25, -0.5, -0.76, -0.29, -0.03, -0.07, -0.1]\n",
      "           ,[-0.05, -0.1, -0.15, 0.2, 0.26, 0.51, 0.77]]).T\n",
      "\n",
      "y = np.matrix([[-0.57,-0.11,-0.57,-0.11,-0.57]\n",
      "               ,[-0.09,0.7,-0.09,0.7,-0.09]]).T\n",
      "\n",
      "print y"
     ],
     "language": "python",
     "metadata": {},
     "outputs": [
      {
       "output_type": "stream",
       "stream": "stdout",
       "text": [
        "[[-0.57 -0.09]\n",
        " [-0.11  0.7 ]\n",
        " [-0.57 -0.09]\n",
        " [-0.11  0.7 ]\n",
        " [-0.57 -0.09]]\n"
       ]
      }
     ],
     "prompt_number": 3
    },
    {
     "cell_type": "code",
     "collapsed": false,
     "input": [
      "a = np.dot(np.matrix([5,0,0,0,0]), y)\n",
      "print a\n",
      "\n",
      "#you used the vector[0,2,0,0,2], which was incorrect!\n",
      "b = np.dot(np.matrix([0,2,0,0,4]), y)\n",
      "print b\n",
      "\n",
      "#print np.dot(a,b.T)\n",
      "myAnswer = np.dot(a,b.T)/(np.linalg.norm(a)*np.linalg.norm(b))\n",
      "print myAnswer"
     ],
     "language": "python",
     "metadata": {},
     "outputs": [
      {
       "output_type": "stream",
       "stream": "stdout",
       "text": [
        "[[-2.85 -0.45]]\n",
        "[[-2.5   1.04]]\n",
        "[[ 0.85209311]]\n",
        "[[ 0.65840919]]\n"
       ]
      }
     ],
     "prompt_number": 5
    },
    {
     "cell_type": "heading",
     "level": 3,
     "metadata": {},
     "source": [
      "Question 18:"
     ]
    },
    {
     "cell_type": "code",
     "collapsed": false,
     "input": [
      "def dist(q,w, l=1):\n",
      "    return abs(q[0]-w[0])**l + abs(q[1]-w[1])**l"
     ],
     "language": "python",
     "metadata": {},
     "outputs": [],
     "prompt_number": 62
    },
    {
     "cell_type": "code",
     "collapsed": false,
     "input": [
      "points = [(1,1), (2,1), (2,2), (3,3), (4,2), (2,4), (4,4)]\n",
      "\n",
      "c1 = []\n",
      "c2 = []\n",
      "\n",
      "for point in points:\n",
      "    if dist(point, (1,1)) > dist(point, (4,4)):\n",
      "        c2.append(point)\n",
      "    else:\n",
      "        c1.append(point)\n",
      "    \n",
      "print c1, c2\n",
      "\n",
      "newCentre1X = sum(p[0] for p in c1)*1./len(c1)\n",
      "newCentre1Y = sum(p[1] for p in c1)*1./len(c1)\n",
      "newCentre2X = sum(p[0] for p in c2)*1./len(c2)\n",
      "newCentre2Y = sum(p[1] for p in c2)*1./len(c2)\n",
      "\n",
      "print (newCentre1X, newCentre1Y)\n",
      "print (newCentre2X, newCentre2Y)\n",
      "\n",
      "#print dist((3,3), (newCentre1X, newCentre1Y))\n",
      "#print dist((3,3), (newCentre2X, newCentre2Y))"
     ],
     "language": "python",
     "metadata": {},
     "outputs": [
      {
       "output_type": "stream",
       "stream": "stdout",
       "text": [
        "[(1, 1), (2, 1), (2, 2)] [(3, 3), (4, 2), (2, 4), (4, 4)]\n",
        "(1.6666666666666667, 1.3333333333333333)\n",
        "(3.25, 3.25)\n"
       ]
      }
     ],
     "prompt_number": 63
    },
    {
     "cell_type": "heading",
     "level": 3,
     "metadata": {},
     "source": [
      "Question 19:"
     ]
    },
    {
     "cell_type": "code",
     "collapsed": false,
     "input": [
      "N = 1000.\n",
      "SUM = (-323., 1066., 1776.) \n",
      "SUMSQ = (412., 1500., 3500.) "
     ],
     "language": "python",
     "metadata": {},
     "outputs": [],
     "prompt_number": 64
    },
    {
     "cell_type": "code",
     "collapsed": false,
     "input": [
      "def mahDist(p, c, sigma):\n",
      "    return np.sqrt( sum( ((p[i]-c[i])/sigma[i])**2 for i in xrange(len(p))))\n",
      "\n",
      "p = (0,0,0)\n",
      "c = [s/N for s in SUM]\n",
      "\n",
      "sigma = [np.sqrt(sq/N - (su/N)**2) for sq, su in zip(SUMSQ,SUM)]\n",
      "\n",
      "mahDist(p,c,sigma)"
     ],
     "language": "python",
     "metadata": {},
     "outputs": [
      {
       "metadata": {},
       "output_type": "pyout",
       "prompt_number": 65,
       "text": [
        "3.5475006941721117"
       ]
      }
     ],
     "prompt_number": 65
    },
    {
     "cell_type": "heading",
     "level": 3,
     "metadata": {},
     "source": [
      "Question 22:"
     ]
    },
    {
     "cell_type": "code",
     "collapsed": false,
     "input": [
      "np.dot([0,1,-1,0,0],[0,1,0,0,-1])/(np.linalg.norm([0,1,-1,0,0])*np.linalg.norm([0,1,0,0,-1]))"
     ],
     "language": "python",
     "metadata": {},
     "outputs": [
      {
       "metadata": {},
       "output_type": "pyout",
       "prompt_number": 67,
       "text": [
        "0.49999999999999989"
       ]
      }
     ],
     "prompt_number": 67
    },
    {
     "cell_type": "heading",
     "level": 3,
     "metadata": {},
     "source": [
      "Question 23:"
     ]
    },
    {
     "cell_type": "code",
     "collapsed": false,
     "input": [
      "np.sqrt(2./3)"
     ],
     "language": "python",
     "metadata": {},
     "outputs": [
      {
       "metadata": {},
       "output_type": "pyout",
       "prompt_number": 69,
       "text": [
        "0.81649658092772603"
       ]
      }
     ],
     "prompt_number": 69
    },
    {
     "cell_type": "code",
     "collapsed": false,
     "input": [],
     "language": "python",
     "metadata": {},
     "outputs": []
    }
   ],
   "metadata": {}
  }
 ]
}