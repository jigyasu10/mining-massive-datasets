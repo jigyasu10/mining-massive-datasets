{
 "metadata": {
  "name": "",
  "signature": "sha256:66bd819dc299c1ce48b8ba846ac034d0dd03801ed4b286c199bbc5130c4776d0"
 },
 "nbformat": 3,
 "nbformat_minor": 0,
 "worksheets": [
  {
   "cells": [
    {
     "cell_type": "heading",
     "level": 3,
     "metadata": {},
     "source": [
      "Task"
     ]
    },
    {
     "cell_type": "markdown",
     "metadata": {},
     "source": [
      "In this assignment you have to implement a scalable version of the PageRank algorithm as seen in the video \"How we Really Compute PageRank\". Use a random teleporting probability of 0.2 and run your algorithm using the google web graph dataset available here.\n",
      "\n",
      "This dataset has a subset of the web graph. Each line in the file has two numbers separated by a space. This represents a directed edge in the graph. For example, \"0 824020\" is an edge from node 0 to node 824020. Below are the first 10 lines in the file:\n",
      "\n",
      " Directed graph (each unordered pair of nodes is saved once): web-Google.txt\n",
      " \n",
      " Webgraph from the Google programming contest, 2002\n",
      " \n",
      "Nodes: 875713 Edges: 5105039\n",
      "\n",
      " FromNodeId\tToNodeId\n",
      " \n",
      " 0\t11342\n",
      " \n",
      "0\t824020\n",
      "\n",
      "0\t867923\n",
      "\n",
      "0\t891835\n",
      "\n",
      "11342\t0\n",
      "\n",
      "11342\t27469\n",
      "\n",
      "Please submit the PageRank value of node named \"99\" in the box below. Write your answer with 10 decimals and using scientific notation. For example 0.00000012345 would become 1.234e-7.\n",
      "\n",
      "Once you have solved this assignment, share the running time of your algorithm in this thread so you can compare how efficient your implementations are. Keep in mind that comparisons can only be made between implementations using the same programming language."
     ]
    },
    {
     "cell_type": "code",
     "collapsed": false,
     "input": [
      "import numpy as np\n",
      "import networkx as nx #not scalable!\n",
      "import scipy.sparse\n",
      "from collections import defaultdict"
     ],
     "language": "python",
     "metadata": {},
     "outputs": [],
     "prompt_number": 1
    },
    {
     "cell_type": "markdown",
     "metadata": {},
     "source": [
      "We weight entries by the number of out links:"
     ]
    },
    {
     "cell_type": "code",
     "collapsed": false,
     "input": [
      "#%%timeit\n",
      "outLinkDict = defaultdict(int)\n",
      "inLinkDict = defaultdict(int)\n",
      "fromLinks = []\n",
      "toLinks = []\n",
      "\n",
      "with open(r\"C:\\Users\\andrewd\\Desktop\\web-Google.txt\", \"rb\") as f:\n",
      "    for idx, line in enumerate(f):\n",
      "        \n",
      "        if line[0] == \"#\":\n",
      "            continue\n",
      "        node1, node2 =  map(int, line.split())\n",
      "        \n",
      "        #there is a link from node1 to node2\n",
      "        #thus node1 is column, node2 is row\n",
      "        #we record out links\n",
      "        outLinkDict[node1] += 1\n",
      "        inLinkDict[node2] += 1\n",
      "        fromLinks.append(node1)\n",
      "        toLinks.append(node2)\n",
      "        \n",
      "        #if idx > 100000:\n",
      "        #    break"
     ],
     "language": "python",
     "metadata": {},
     "outputs": [],
     "prompt_number": 76
    },
    {
     "cell_type": "markdown",
     "metadata": {},
     "source": [
      "Some node numbers are missing (here are no outlinks!), hence why the sparse matrix has greater dimensions than the question suggests:"
     ]
    },
    {
     "cell_type": "code",
     "collapsed": false,
     "input": [
      "for i in xrange(1000):\n",
      "    if inLinkDict[i] == 0 and outLinkDict[i] == 0:\n",
      "        print i\n",
      "        break"
     ],
     "language": "python",
     "metadata": {},
     "outputs": [
      {
       "output_type": "stream",
       "stream": "stdout",
       "text": [
        "39\n"
       ]
      }
     ],
     "prompt_number": 73
    },
    {
     "cell_type": "markdown",
     "metadata": {},
     "source": [
      "Let's deal with this now:"
     ]
    },
    {
     "cell_type": "code",
     "collapsed": false,
     "input": [
      "trueNodes = sorted(list(set(fromLinks).union(toLinks)))        \n",
      "print len(trueNodes), trueNodes[35:42] #note that 39 is missing, as observed above\n",
      "answerIdx = trueNodes.index(99)\n",
      "print answerIdx\n",
      "\n",
      "trueNodesDict = dict([(nodeId, idx) for idx, nodeId in enumerate(trueNodes)])\n",
      "\n",
      "data = [1./outLinkDict[node] for node in fromLinks]\n",
      "\n",
      "trueToLinks = [trueNodesDict[node] for node in toLinks]\n",
      "trueFromLinks = [trueNodesDict[node] for node in fromLinks]\n",
      "\n",
      "M = scipy.sparse.coo_matrix((data, (trueToLinks, trueFromLinks)))"
     ],
     "language": "python",
     "metadata": {},
     "outputs": [
      {
       "output_type": "stream",
       "stream": "stdout",
       "text": [
        "875713 [35, 36, 37, 38, 40, 41, 42]\n",
        "95\n"
       ]
      }
     ],
     "prompt_number": 92
    },
    {
     "cell_type": "code",
     "collapsed": false,
     "input": [
      "print M.get_shape()\n",
      "M #check that there are 5105039 elements in the array"
     ],
     "language": "python",
     "metadata": {},
     "outputs": [
      {
       "output_type": "stream",
       "stream": "stdout",
       "text": [
        "(875713, 875713)\n"
       ]
      },
      {
       "metadata": {},
       "output_type": "pyout",
       "prompt_number": 93,
       "text": [
        "<875713x875713 sparse matrix of type '<type 'numpy.float64'>'\n",
        "\twith 5105039 stored elements in COOrdinate format>"
       ]
      }
     ],
     "prompt_number": 93
    },
    {
     "cell_type": "code",
     "collapsed": false,
     "input": [
      "#check that column sums are either 0 or 1\n",
      "print M.sum(axis=0)\n",
      "print np.max(M.sum(axis=0))\n",
      "print np.min(M.sum(axis=0))\n",
      "#check the nonzero entries in the first column\n",
      "print M.getcol(0).nonzero()\n",
      "print M.getcol(0).data"
     ],
     "language": "python",
     "metadata": {},
     "outputs": [
      {
       "output_type": "stream",
       "stream": "stdout",
       "text": [
        "[[ 1.  1.  1. ...,  1.  0.  1.]]\n",
        "1.0"
       ]
      },
      {
       "output_type": "stream",
       "stream": "stdout",
       "text": [
        "\n",
        "0.0"
       ]
      },
      {
       "output_type": "stream",
       "stream": "stdout",
       "text": [
        "\n",
        "(array([ 10767, 785951, 828471, 851670]), array([0, 0, 0, 0]))"
       ]
      },
      {
       "output_type": "stream",
       "stream": "stdout",
       "text": [
        "\n",
        "[ 0.25  0.25  0.25  0.25]"
       ]
      },
      {
       "output_type": "stream",
       "stream": "stdout",
       "text": [
        "\n"
       ]
      }
     ],
     "prompt_number": 94
    },
    {
     "cell_type": "markdown",
     "metadata": {},
     "source": [
      "Actual algorithm:"
     ]
    },
    {
     "cell_type": "code",
     "collapsed": false,
     "input": [
      "#%%timeit\n",
      "beta= 0.8\n",
      "epsilon = 1./(10**10)\n",
      "nodes = 875713\n",
      "v = np.zeros((M.shape[0], 1)) + 1./nodes\n",
      "\n",
      "for _ in xrange(250):\n",
      "    newV = beta*M*v + (1-beta)/nodes\n",
      "    \n",
      "    if np.sum(np.abs(newV - v)) < epsilon:\n",
      "        print \"{} iterations\".format(_)\n",
      "        v = newV\n",
      "        break\n",
      "    else:\n",
      "        v = newV\n",
      "\n",
      "#NO! output vector must have element-sum = 1, not be unit length!\n",
      "#v = v/np.linalg.norm(v)\n",
      "v = v/np.sum(v)\n",
      "print v[answerIdx]"
     ],
     "language": "python",
     "metadata": {},
     "outputs": [
      {
       "output_type": "stream",
       "stream": "stdout",
       "text": [
        "85 iterations\n",
        "[  3.72200116e-07]\n"
       ]
      }
     ],
     "prompt_number": 100
    },
    {
     "cell_type": "markdown",
     "metadata": {},
     "source": [
      "Answer is not 6.494e-5! (remove the non-existent nodes!)"
     ]
    },
    {
     "cell_type": "markdown",
     "metadata": {},
     "source": [
      "------------------------------------------------------------------------"
     ]
    }
   ],
   "metadata": {}
  }
 ]
}