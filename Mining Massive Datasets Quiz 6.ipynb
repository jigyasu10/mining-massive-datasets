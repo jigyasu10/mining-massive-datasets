{
 "metadata": {
  "name": "",
  "signature": "sha256:48ebd0c1dd741a3c39fd57818b98631d5f405fbaba86ff514aa7da90f9d9d36f"
 },
 "nbformat": 3,
 "nbformat_minor": 0,
 "worksheets": [
  {
   "cells": [
    {
     "cell_type": "code",
     "collapsed": false,
     "input": [
      "import numpy as np"
     ],
     "language": "python",
     "metadata": {},
     "outputs": [],
     "prompt_number": 1
    },
    {
     "cell_type": "markdown",
     "metadata": {},
     "source": [
      "You may have the correct method, but have chosen the wrong line as the maximum-margin separator. Remember that you have to minimize the length of the vector w when you put the separating line in the form w.x+b=0. Here is an outline of how to work this problem.\n",
      "* Start by finding the lines through the two positive points and through the two negative points. Put these lines in slope-intercept form. That is, if v is the vertical axis and u the horizontal axis, write the equation of the line as v=c+au.\n",
      "* Find the parallel line through the closer of the points on the other side. Remember that parallel lines have the same slope; only the intercept c can change.\n",
      "* Having found the proper parallel line, find the line midway between them by averaging their intercepts --- the c values.\n",
      "* Now, write the equation of this line as w.x+b=0.\n",
      "* Scale the constants w=(w1,w2) and b, so that for positive x, the left side w.x+b is at least 1, but is exactly 1 for the closest (to the boundary) of the positive points. Also, the left side must be at most -1 for negative points, but must be exactly -1 for the closest of them."
     ]
    },
    {
     "cell_type": "code",
     "collapsed": false,
     "input": [
      "pos_grad =  np.asarray((-1, 3))\n",
      "pos_int = 1\n",
      "\n",
      "neg_grad = np.asarray((-1, 4))\n",
      "neg_int = 3.75\n"
     ],
     "language": "python",
     "metadata": {},
     "outputs": [],
     "prompt_number": 14
    },
    {
     "cell_type": "code",
     "collapsed": false,
     "input": [
      "print np.dot(pos_grad, (8,3)) - pos_int\n",
      "print np.dot(pos_grad, (5,4)) - pos_int\n",
      "print np.dot(neg_grad, (3,3)) - neg_int\n",
      "print np.dot(neg_grad, (7,2)) - neg_int\n"
     ],
     "language": "python",
     "metadata": {},
     "outputs": [
      {
       "output_type": "stream",
       "stream": "stdout",
       "text": [
        "0\n",
        "6\n",
        "5.25\n",
        "-2.75\n"
       ]
      }
     ],
     "prompt_number": 16
    },
    {
     "cell_type": "code",
     "collapsed": false,
     "input": [],
     "language": "python",
     "metadata": {},
     "outputs": []
    }
   ],
   "metadata": {}
  }
 ]
}