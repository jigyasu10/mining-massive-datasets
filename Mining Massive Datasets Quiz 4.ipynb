{
 "metadata": {
  "name": "",
  "signature": "sha256:053e4c97fafb310003860ed816b00950c883478b37517e83c631a3b3ad668ec6"
 },
 "nbformat": 3,
 "nbformat_minor": 0,
 "worksheets": [
  {
   "cells": [
    {
     "cell_type": "heading",
     "level": 3,
     "metadata": {},
     "source": [
      "Basic"
     ]
    },
    {
     "cell_type": "code",
     "collapsed": false,
     "input": [
      "import numpy as np"
     ],
     "language": "python",
     "metadata": {},
     "outputs": [],
     "prompt_number": 1
    },
    {
     "cell_type": "code",
     "collapsed": false,
     "input": [
      "x = np.asarray([[1,2,3,4,5], [2,3,2,5,3], [5,5,5,3,2]])\n",
      "\n",
      "print x\n",
      "print np.mean(x, axis=0)\n",
      "y = x - np.mean(x, axis=0)\n",
      "print y\n",
      "print np.mean(y, axis=1)\n",
      "z = (y.T - np.mean(y, axis=1)).T\n",
      "#print np.argmin(z), np.argmax(z)\n",
      "print z\n",
      "print z.max(), z.min()"
     ],
     "language": "python",
     "metadata": {},
     "outputs": [
      {
       "output_type": "stream",
       "stream": "stdout",
       "text": [
        "[[1 2 3 4 5]\n",
        " [2 3 2 5 3]\n",
        " [5 5 5 3 2]]\n",
        "[ 2.66666667  3.33333333  3.33333333  4.          3.33333333]\n",
        "[[-1.66666667 -1.33333333 -0.33333333  0.          1.66666667]\n",
        " [-0.66666667 -0.33333333 -1.33333333  1.         -0.33333333]\n",
        " [ 2.33333333  1.66666667  1.66666667 -1.         -1.33333333]]\n",
        "[-0.33333333 -0.33333333  0.66666667]\n",
        "[[ -1.33333333e+00  -1.00000000e+00  -1.11022302e-16   3.33333333e-01\n",
        "    2.00000000e+00]\n",
        " [ -3.33333333e-01  -1.11022302e-16  -1.00000000e+00   1.33333333e+00\n",
        "   -1.11022302e-16]\n",
        " [  1.66666667e+00   1.00000000e+00   1.00000000e+00  -1.66666667e+00\n",
        "   -2.00000000e+00]]\n",
        "2.0 -2.0\n"
       ]
      }
     ],
     "prompt_number": 23
    },
    {
     "cell_type": "code",
     "collapsed": false,
     "input": [],
     "language": "python",
     "metadata": {},
     "outputs": [],
     "prompt_number": 25
    },
    {
     "cell_type": "code",
     "collapsed": false,
     "input": [
      "def cdist(x, y):\n",
      "    return np.dot(x,y)/(np.linalg.norm(x)*np.linalg.norm(y))"
     ],
     "language": "python",
     "metadata": {},
     "outputs": [
      {
       "output_type": "stream",
       "stream": "stdout",
       "text": [
        "\n"
       ]
      }
     ],
     "prompt_number": 27
    },
    {
     "cell_type": "code",
     "collapsed": false,
     "input": [
      "for alpha in (0,0.5, 1, 2):\n",
      "    print alpha\n",
      "\n",
      "    a = np.asarray([[1,0,1,0,1,2],[1,1,0,0,1,6],[0,1,0,1,0,2]])\n",
      "    a[:,5] = a[:,5]*alpha\n",
      "\n",
      "    print \"AB dist:\", cdist(a[0], a[1])\n",
      "    print \"BC dist:\", cdist(a[1], a[2])\n",
      "    print \"AC dist:\", cdist(a[0], a[2]) "
     ],
     "language": "python",
     "metadata": {},
     "outputs": [
      {
       "output_type": "stream",
       "stream": "stdout",
       "text": [
        "0\n",
        "AB dist: 0.666666666667\n",
        "BC dist: 0.408248290464\n",
        "AC dist: 0.0\n",
        "0.5\n",
        "AB dist: 0.721687836487\n",
        "BC dist: 0.666666666667\n",
        "AC dist: 0.288675134595\n",
        "1\n",
        "AB dist: 0.847318545736\n",
        "BC dist: 0.849836585599\n",
        "AC dist: 0.617213399848\n",
        "2\n",
        "AB dist: 0.946094540761\n",
        "BC dist: 0.952579344416\n",
        "AC dist: 0.865180912697\n"
       ]
      }
     ],
     "prompt_number": 28
    },
    {
     "cell_type": "heading",
     "level": 3,
     "metadata": {},
     "source": [
      "Advanced"
     ]
    },
    {
     "cell_type": "code",
     "collapsed": false,
     "input": [
      "x = np.asarray([2./7,3./7,6./7])\n",
      "\n",
      "#y = [[.702, -.702, .117], [1.125, .500, -.625], [-.288, -.490, .772], [.608, -.459, -.119]]\n",
      "\n",
      "#y = [[.954, .728, -.682],[-.286, -.429, .857],[.429, .857, .286],[.728, .485, -.485]]\n",
      "\n",
      "y = [[-.288, -.490, .772],[-.548, .401, .273],[.702, -.702, .117],[.608, -.459, -.119]]\n",
      "\n",
      "for z in y:\n",
      "   z = np.asarray(z)\n",
      "   print np.dot(x,z)\n",
      "   print np.linalg.norm(z)"
     ],
     "language": "python",
     "metadata": {},
     "outputs": [
      {
       "output_type": "stream",
       "stream": "stdout",
       "text": [
        "0.369428571429\n",
        "0.958659480733\n",
        "0.249285714286\n",
        "0.731870207072\n",
        "0.0\n",
        "0.999648438202\n",
        "-0.125\n",
        "0.771042151896\n"
       ]
      }
     ],
     "prompt_number": 66
    },
    {
     "cell_type": "code",
     "collapsed": false,
     "input": [
      "x = np.asarray([2./7,3./7,6./7])\n",
      "y = np.asarray([6./7,2./7,-3./7])\n",
      "\n",
      "print 3*x - y\n",
      "print 2*x - 3*y\n",
      "print x + 2*y"
     ],
     "language": "python",
     "metadata": {},
     "outputs": [
      {
       "output_type": "stream",
       "stream": "stdout",
       "text": [
        "[ 0.  1.  3.]\n",
        "[-2.  0.  3.]\n",
        "[ 2.  1.  0.]\n"
       ]
      }
     ],
     "prompt_number": 68
    },
    {
     "cell_type": "code",
     "collapsed": false,
     "input": [
      "x = np.asarray([1,2,3])\n",
      "#y = [[-3, -2, 5],[-1, 1, -1],[1, 1./2, 1./3],[3, 0, -1]]\n",
      "\n",
      "y = [[-1, -1, 1],[-3, 4, -2],[-1, -2, 0],[2, -3, 1]]\n",
      "\n",
      "for z in y:\n",
      "    z = np.asarray(z)\n",
      "    print np.dot(x,z)"
     ],
     "language": "python",
     "metadata": {},
     "outputs": [
      {
       "output_type": "stream",
       "stream": "stdout",
       "text": [
        "0\n",
        "-1\n",
        "-5\n",
        "-1\n"
       ]
      }
     ],
     "prompt_number": 67
    },
    {
     "cell_type": "code",
     "collapsed": false,
     "input": [
      "import numpy as np\n",
      "import matplotlib.pyplot as plt\n",
      "from scipy.linalg import svd\n",
      "import sklearn.decomposition as skd\n",
      "\n",
      "M= np.asarray([[1,1], [2,2],[3,4]])\n",
      "\n",
      "np.dot(M.T, M)"
     ],
     "language": "python",
     "metadata": {},
     "outputs": [
      {
       "metadata": {},
       "output_type": "pyout",
       "prompt_number": 65,
       "text": [
        "array([[14, 17],\n",
        "       [17, 21]])"
       ]
      }
     ],
     "prompt_number": 65
    },
    {
     "cell_type": "code",
     "collapsed": false,
     "input": [
      "pca = skd.PCA(n_components=2, copy=True, whiten=False)\n",
      "pca.fit(M)"
     ],
     "language": "python",
     "metadata": {},
     "outputs": [
      {
       "metadata": {},
       "output_type": "pyout",
       "prompt_number": 50,
       "text": [
        "PCA(copy=True, n_components=2, whiten=False)"
       ]
      }
     ],
     "prompt_number": 50
    },
    {
     "cell_type": "code",
     "collapsed": false,
     "input": [
      "pca.components_"
     ],
     "language": "python",
     "metadata": {},
     "outputs": [
      {
       "metadata": {},
       "output_type": "pyout",
       "prompt_number": 54,
       "text": [
        "array([[ 0.54491353,  0.83849227],\n",
        "       [-0.83849227,  0.54491353]], dtype=float32)"
       ]
      }
     ],
     "prompt_number": 54
    },
    {
     "cell_type": "code",
     "collapsed": false,
     "input": [],
     "language": "python",
     "metadata": {},
     "outputs": []
    }
   ],
   "metadata": {}
  }
 ]
}