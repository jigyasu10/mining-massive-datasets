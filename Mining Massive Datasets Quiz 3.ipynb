{
 "metadata": {
  "name": "",
  "signature": "sha256:44bf331d447221663e4d996d9df57410fa5ceb3e6750ba894b8adbbc30a3a10d"
 },
 "nbformat": 3,
 "nbformat_minor": 0,
 "worksheets": [
  {
   "cells": [
    {
     "cell_type": "code",
     "collapsed": false,
     "input": [
      "import networkx as nx\n",
      "import numpy as np"
     ],
     "language": "python",
     "metadata": {},
     "outputs": [],
     "prompt_number": 1
    },
    {
     "cell_type": "heading",
     "level": 1,
     "metadata": {},
     "source": [
      "3A Advanced"
     ]
    },
    {
     "cell_type": "heading",
     "level": 3,
     "metadata": {},
     "source": [
      "Question 1"
     ]
    },
    {
     "cell_type": "markdown",
     "metadata": {},
     "source": [
      "Compute the sum of entries and number of non-zero entries for adjacency matrix, degre matrix and graph Laplacian\n",
      " \n",
      "   C -- D -- E\n",
      " / |    |    | \\\n",
      "A  |    |    |  B\n",
      " \\ |    |    | /\n",
      "   F -- G -- H"
     ]
    },
    {
     "cell_type": "code",
     "collapsed": false,
     "input": [
      "D = np.diag([2, 2,3,3, 3, 3, 3, 3])\n",
      "a = [[0,0,1,0,0,1,0,0],\n",
      "     [0,0,0,0,1,0,0,1],\n",
      "     [1,0,0,1,0,1,0,0],\n",
      "     [0,0,1,0,1,0,1,0],\n",
      "     [0,1,0,1,0,0,0,1],\n",
      "     [1,0,1,0,0,0,1,0],\n",
      "     [0,0,0,1,0,1,0,1],\n",
      "     [0,1,0,0,1,0,1,0]]\n",
      "A = np.asarray(a)\n",
      "print D, A"
     ],
     "language": "python",
     "metadata": {},
     "outputs": [
      {
       "output_type": "stream",
       "stream": "stdout",
       "text": [
        "[[2 0 0 0 0 0 0 0]\n",
        " [0 2 0 0 0 0 0 0]\n",
        " [0 0 3 0 0 0 0 0]\n",
        " [0 0 0 3 0 0 0 0]\n",
        " [0 0 0 0 3 0 0 0]\n",
        " [0 0 0 0 0 3 0 0]\n",
        " [0 0 0 0 0 0 3 0]\n",
        " [0 0 0 0 0 0 0 3]] [[0 0 1 0 0 1 0 0]\n",
        " [0 0 0 0 1 0 0 1]\n",
        " [1 0 0 1 0 1 0 0]\n",
        " [0 0 1 0 1 0 1 0]\n",
        " [0 1 0 1 0 0 0 1]\n",
        " [1 0 1 0 0 0 1 0]\n",
        " [0 0 0 1 0 1 0 1]\n",
        " [0 1 0 0 1 0 1 0]]\n"
       ]
      }
     ],
     "prompt_number": 6
    },
    {
     "cell_type": "code",
     "collapsed": false,
     "input": [
      "G = nx.Graph(A)\n",
      "print G.nodes()\n",
      "print G.edges()\n",
      "L = nx.laplacian_matrix(G)\n",
      "print L"
     ],
     "language": "python",
     "metadata": {},
     "outputs": [
      {
       "output_type": "stream",
       "stream": "stdout",
       "text": [
        "[0, 1, 2, 3, 4, 5, 6, 7]\n",
        "[(0, 2), (0, 5), (1, 4), (1, 7), (2, 3), (2, 5), (3, 4), (3, 6), (4, 7), (5, 6), (6, 7)]\n",
        "[[ 2.  0. -1.  0.  0. -1.  0.  0.]\n",
        " [ 0.  2.  0.  0. -1.  0.  0. -1.]\n",
        " [-1.  0.  3. -1.  0. -1.  0.  0.]\n",
        " [ 0.  0. -1.  3. -1.  0. -1.  0.]\n",
        " [ 0. -1.  0. -1.  3.  0.  0. -1.]\n",
        " [-1.  0. -1.  0.  0.  3. -1.  0.]\n",
        " [ 0.  0.  0. -1.  0. -1.  3. -1.]\n",
        " [ 0. -1.  0.  0. -1.  0. -1.  3.]]\n"
       ]
      }
     ],
     "prompt_number": 14
    },
    {
     "cell_type": "code",
     "collapsed": false,
     "input": [
      "for matrix, tag in zip((A, D, L), (\"adj\", \"deg\", \"lap\")):\n",
      "    print \"For {}, Entry sum:\".format(tag), np.sum(matrix), \"Non-zero entries:\", np.sum(np.where(matrix != 0, 1, 0))"
     ],
     "language": "python",
     "metadata": {},
     "outputs": [
      {
       "output_type": "stream",
       "stream": "stdout",
       "text": [
        "For adj, Entry sum: 22 Non-zero entries: 22\n",
        "For deg, Entry sum: 22 Non-zero entries: 8\n",
        "For lap, Entry sum: 0.0 Non-zero entries: 30\n"
       ]
      }
     ],
     "prompt_number": 22
    },
    {
     "cell_type": "heading",
     "level": 3,
     "metadata": {},
     "source": [
      "Question 2:"
     ]
    },
    {
     "cell_type": "markdown",
     "metadata": {},
     "source": [
      "You are given the following graph.\n",
      "   2 ----6\n",
      " /  \\    |\n",
      "1    4   |\n",
      " \\  /  \\ |\n",
      "  3      5 \n",
      "The goal is to find two clusters in this graph using Spectral Clustering on the Laplacian matrix. Compute the Laplacian of this graph. Then compute the second eigen vector of the Laplacian (the one corresponding to the second smallest eigenvalue).\n",
      "\n",
      "To cluster the points, we decide to split at the mean value. We say that a node is a tie if its value in the eigen-vector is exactly equal to the mean value. Let's assume that if a point is a tie, we choose its cluster at random. Identify the true statement from the list below."
     ]
    },
    {
     "cell_type": "code",
     "collapsed": false,
     "input": [
      "a = [[0,1,1,0,0,0],\n",
      "     [1,0,0,1,0,1],\n",
      "     [1,0,0,1,0,0],\n",
      "     [0,1,1,0,1,0],\n",
      "     [0,0,0,1,0,1],\n",
      "     [0,1,0,0,1,0]]\n",
      "A = np.asarray(a)\n",
      "G = nx.Graph(A)"
     ],
     "language": "python",
     "metadata": {},
     "outputs": [],
     "prompt_number": 23
    },
    {
     "cell_type": "code",
     "collapsed": false,
     "input": [
      "evalues = nx.laplacian_spectrum(G)\n",
      "print sorted(evalues)\n",
      "print \"This shows that 1 is the second smallest eigenvalue\""
     ],
     "language": "python",
     "metadata": {},
     "outputs": [
      {
       "output_type": "stream",
       "stream": "stdout",
       "text": [
        "[3.968722052383189e-16, 0.99999999999999922, 2.0000000000000009, 3.0000000000000013, 3.0000000000000022, 4.9999999999999991]\n",
        "This shows that 1 is the second smallest eigenvalue\n"
       ]
      }
     ],
     "prompt_number": 31
    },
    {
     "cell_type": "code",
     "collapsed": false,
     "input": [
      "L = nx.laplacian_matrix(G)\n",
      "evaules, evectors = np.linalg.eig(L)\n",
      "print np.dot(L, evectors[:,2]) - evectors[:,2] \n",
      "te= np.asarray([-5,0,-5,0,5,5])\n",
      "print np.dot(L, te.T) - te.T "
     ],
     "language": "python",
     "metadata": {},
     "outputs": [
      {
       "output_type": "stream",
       "stream": "stdout",
       "text": [
        "[[ -1.11022302e-16]\n",
        " [ -5.54049207e-16]\n",
        " [  3.88578059e-16]\n",
        " [  3.25550227e-16]\n",
        " [ -1.66533454e-16]\n",
        " [  4.44089210e-16]]\n",
        "[[ 0.  0.  0.  0.  0.  0.]]\n"
       ]
      }
     ],
     "prompt_number": 52
    },
    {
     "cell_type": "markdown",
     "metadata": {},
     "source": [
      "__Statements:__\n",
      "* 1 and 3 in the same cluster\n",
      "* 4 and 5 are in the same cluster\n",
      "* 5 and 6 can either be in the same cluster or in different clusters (depending on randomness)\n",
      "* 3 and 5 can either be in the same cluster or in different clusters (depending on randomness)"
     ]
    },
    {
     "cell_type": "code",
     "collapsed": false,
     "input": [
      "mean = np.mean(te)\n",
      "print mean\n",
      "print np.where(te >= 0, 1, 0)\n",
      "print np.where(te > 0, 1, 0)"
     ],
     "language": "python",
     "metadata": {},
     "outputs": [
      {
       "output_type": "stream",
       "stream": "stdout",
       "text": [
        "0.0\n",
        "[0 1 0 1 1 1]\n",
        "[0 0 0 0 1 1]\n"
       ]
      }
     ],
     "prompt_number": 55
    },
    {
     "cell_type": "heading",
     "level": 3,
     "metadata": {},
     "source": [
      "Question 3:"
     ]
    },
    {
     "cell_type": "code",
     "collapsed": false,
     "input": [
      "stream = [i for i in xrange(1,11)] * 7 + [1,2,3,4,5]\n",
      "print stream, len(stream)"
     ],
     "language": "python",
     "metadata": {},
     "outputs": [
      {
       "output_type": "stream",
       "stream": "stdout",
       "text": [
        " [1, 2, 3, 4, 5, 6, 7, 8, 9, 10, 1, 2, 3, 4, 5, 6, 7, 8, 9, 10, 1, 2, 3, 4, 5, 6, 7, 8, 9, 10, 1, 2, 3, 4, 5, 6, 7, 8, 9, 10, 1, 2, 3, 4, 5, 6, 7, 8, 9, 10, 1, 2, 3, 4, 5, 6, 7, 8, 9, 10, 1, 2, 3, 4, 5, 6, 7, 8, 9, 10, 1, 2, 3, 4, 5] 75\n"
       ]
      }
     ],
     "prompt_number": 86
    },
    {
     "cell_type": "code",
     "collapsed": false,
     "input": [
      "def surpriseNo(stream, values=[i for i in xrange(1,11)]):\n",
      "    surp = 0\n",
      "    for value in values:\n",
      "        cnt = stream.count(value)\n",
      "        print value, cnt\n",
      "        surp += cnt**2\n",
      "    return surp\n",
      "\n",
      "print surpriseNo(stream)"
     ],
     "language": "python",
     "metadata": {},
     "outputs": [
      {
       "output_type": "stream",
       "stream": "stdout",
       "text": [
        "1 8\n",
        "2 8\n",
        "3 8\n",
        "4 8\n",
        "5 8\n",
        "6 7\n",
        "7 7\n",
        "8 7\n",
        "9 7\n",
        "10 7\n",
        "565\n"
       ]
      }
     ],
     "prompt_number": 87
    },
    {
     "cell_type": "code",
     "collapsed": false,
     "input": [
      "triples = [[25, 34, 47],[31, 48, 50],[3, 45, 72],[31, 32, 44]]\n",
      "length = 75\n",
      "\n",
      "for triple in triples:\n",
      "    varis = []\n",
      "    for n in triple:\n",
      "        a = stream[n - 1]\n",
      "        #print n, a\n",
      "        m = stream[n - 1:].count(a)\n",
      "        #print m\n",
      "        x = length*(2*m - 1)\n",
      "        #print x\n",
      "        varis.append(x)\n",
      "    varis.sort()\n",
      "    #print varis\n",
      "    estimate = varis[1]\n",
      "    print \"Estimate of surprise number for {0} is {1}\".format(triple, estimate)\n",
      "    #print varis, sum(varis)/3. "
     ],
     "language": "python",
     "metadata": {},
     "outputs": [
      {
       "output_type": "stream",
       "stream": "stdout",
       "text": [
        "Estimate of surprise number for [25, 34, 47] is 675\n",
        "Estimate of surprise number for [31, 48, 50] is 375\n",
        "Estimate of surprise number for [3, 45, 72] is 525\n",
        "Estimate of surprise number for [31, 32, 44] is 675\n"
       ]
      }
     ],
     "prompt_number": 89
    },
    {
     "cell_type": "heading",
     "level": 3,
     "metadata": {},
     "source": [
      "Question 4:"
     ]
    },
    {
     "cell_type": "markdown",
     "metadata": {},
     "source": [
      "* Pick a hash function h that maps each of the nelements to at least log2n bits\n",
      "\u0083* For each stream element a, let r(a) be the number of trailing 0\u2019s in h(a).\n",
      "*\u0083 Record R = the maximum r(a) seen.\n",
      "\u0083* Estimate = 2^R."
     ]
    },
    {
     "cell_type": "code",
     "collapsed": false,
     "input": [
      "from numpy import binary_repr"
     ],
     "language": "python",
     "metadata": {},
     "outputs": [],
     "prompt_number": 60
    },
    {
     "cell_type": "code",
     "collapsed": false,
     "input": [
      "def hash(x):\n",
      "     return binary_repr((3*x + 7) % 11)\n",
      "    \n",
      "quads = [[2, 3, 6, 9],[1, 5, 8, 9],[2, 6, 8, 10],[4, 6, 9, 10]]\n",
      "\n",
      "for quad in quads:\n",
      "    maxTail = 0\n",
      "    for n in quad:\n",
      "        s = hash(n)\n",
      "        #print s, s[-1]\n",
      "        if s[-1] != '0':\n",
      "            #print \"not end in 0\" \n",
      "            continue\n",
      "        else:\n",
      "            idx = -1\n",
      "            while s[idx] == '0':\n",
      "                idx -= 1\n",
      "                if idx < -len(s):\n",
      "                    break\n",
      "            #print \"tail of 0's length {}\".format(abs(idx) - 1)\n",
      "            maxTail = max(maxTail, abs(idx) - 1)\n",
      "       \n",
      "    estimate = 2 ** maxTail\n",
      "    print \"Estimate for {0} is {1}\".format(quad, estimate)\n",
      "    "
     ],
     "language": "python",
     "metadata": {},
     "outputs": [
      {
       "output_type": "stream",
       "stream": "stdout",
       "text": [
        "Estimate for [2, 3, 6, 9] is 2\n",
        "Estimate for [1, 5, 8, 9] is 2\n",
        "Estimate for [2, 6, 8, 10] is 4\n",
        "Estimate for [4, 6, 9, 10] is 8\n"
       ]
      }
     ],
     "prompt_number": 73
    },
    {
     "cell_type": "heading",
     "level": 3,
     "metadata": {},
     "source": [
      "Question 5"
     ]
    },
    {
     "cell_type": "code",
     "collapsed": false,
     "input": [
      "endTimes = [100,98,95,92,87,80,65]\n",
      "size = [1,1,2,2,4,8,8]"
     ],
     "language": "python",
     "metadata": {},
     "outputs": [],
     "prompt_number": 59
    },
    {
     "cell_type": "heading",
     "level": 1,
     "metadata": {},
     "source": [
      "3B Basic"
     ]
    },
    {
     "cell_type": "heading",
     "level": 3,
     "metadata": {},
     "source": [
      "Question 1:"
     ]
    },
    {
     "cell_type": "markdown",
     "metadata": {},
     "source": [
      "Suppose we hash the elements of a set S having 20 members, to a bit array of length 99. The array is initially all-0's, and we set a bit to 1 whenever a member of S hashes to it. The hash function is random and uniform in its distribution. What is the expected fraction of 0's in the array after hashing? What is the expected fraction of 1's? You may assume that 99 is large enough that asymptotic limits are reached.\n",
      "* The fraction of 1's is e-79/99. \n",
      "* The fraction of 0's is e-20/99. \n",
      "* The fraction of 0's is 20/99.\n",
      "* The fraction of 1's is 20/99."
     ]
    },
    {
     "cell_type": "code",
     "collapsed": false,
     "input": [
      "(1-1./t)^\n",
      "\n",
      "np.exp(-79./99.)\n",
      "20./99."
     ],
     "language": "python",
     "metadata": {},
     "outputs": [
      {
       "metadata": {},
       "output_type": "pyout",
       "prompt_number": 91,
       "text": [
        "0.20202020202020202"
       ]
      }
     ],
     "prompt_number": 91
    },
    {
     "cell_type": "heading",
     "level": 3,
     "metadata": {},
     "source": [
      "Question 2:"
     ]
    },
    {
     "cell_type": "markdown",
     "metadata": {},
     "source": [
      "If t = 999, then 1000/1,000,000 = 10-3 of the users will be in the selected set; i.e., 108*10-3 = 105 users will be selected. If n = 109, the number of emails in the stream from each user is 109/108 = 10. Since the record from each email takes 100 bytes, the amount of space consumed by these emails is 105*100*10 = 108 bytes, which is much less than the 1010 bytes allocated."
     ]
    },
    {
     "cell_type": "code",
     "collapsed": false,
     "input": [
      "#tt= ((10**9, 99999),(10**12, 999),(10**9, 999),(10**12,100))\n",
      "\n",
      "#tt = ((10**10, 10000), (10**9,1000),(10**13,9),(10**12,999))\n",
      "\n",
      "tt=((10**10, 10000),(10**14,0),(10**9,1000),(10**10,100000))"
     ],
     "language": "python",
     "metadata": {},
     "outputs": [],
     "prompt_number": 111
    },
    {
     "cell_type": "code",
     "collapsed": false,
     "input": [
      "for n,t in tt:\n",
      "    usersSelected = 10**8*(float(t+1)/10**6)\n",
      "    emailsPerUser = float(n)/10**8\n",
      "    emailInBin = usersSelected*emailsPerUser*100\n",
      "    #print emailInBin\n",
      "    print np.log10(emailInBin)"
     ],
     "language": "python",
     "metadata": {},
     "outputs": [
      {
       "output_type": "stream",
       "stream": "stdout",
       "text": [
        "10.0000434273\n",
        "10.0\n",
        "8.00043407748\n",
        "11.0000043429\n"
       ]
      }
     ],
     "prompt_number": 117
    },
    {
     "cell_type": "code",
     "collapsed": false,
     "input": [],
     "language": "python",
     "metadata": {},
     "outputs": []
    }
   ],
   "metadata": {}
  }
 ]
}