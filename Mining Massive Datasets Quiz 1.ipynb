{
 "metadata": {
  "name": "",
  "signature": "sha256:de80ca790e462fb01a6279ce3079a4173edcbcd0a66bdb1557f81159addb8291"
 },
 "nbformat": 3,
 "nbformat_minor": 0,
 "worksheets": [
  {
   "cells": [
    {
     "cell_type": "heading",
     "level": 3,
     "metadata": {},
     "source": [
      "Computing page rank"
     ]
    },
    {
     "cell_type": "code",
     "collapsed": false,
     "input": [
      "#!pip install daft\n",
      "import daft\n",
      "import matplotlib.pyplot as plt\n",
      "import numpy as np\n",
      "%matplotlib inline"
     ],
     "language": "python",
     "metadata": {},
     "outputs": [],
     "prompt_number": 1
    },
    {
     "cell_type": "markdown",
     "metadata": {},
     "source": [
      "__Question 1 - double means line to itself__\n",
      "\n",
      "Suppose we compute PageRank with a \u03b2 of 0.7, and we introduce the additional constraint that the sum of the PageRanks of the three pages must be 3, to handle the problem that otherwise any multiple of a solution will also be a solution. Compute the PageRanks a, b, and c of the three pages A, B, and C, respectively. Then, identify from the list below, the true statement.\n",
      "\n",
      "a + c = 2.745\n",
      "a + c = 2.595\n",
      "a + c = 1.985\n",
      "b + c = 2.5"
     ]
    },
    {
     "cell_type": "code",
     "collapsed": false,
     "input": [
      "# Instantiate the PGM.\n",
      "pgm = daft.PGM([3, 2], origin=[0, 0], observed_style=\"inner\", )\n",
      "\n",
      "\n",
      "# Hierarchical parameters.\n",
      "pgm.add_node(daft.Node(\"a\", r\"a\", 1., 1.5))\n",
      "pgm.add_node(daft.Node(\"b\", r\"b\", 2.5, 1.5))\n",
      "pgm.add_node(daft.Node(\"c\", r\"c\", 1.5, 0.5, observed=True))\n",
      "\n",
      "# Add in the edges.\n",
      "pgm.add_edge(\"a\", \"b\")\n",
      "pgm.add_edge(\"b\", \"c\")\n",
      "pgm.add_edge(\"a\", \"c\")\n",
      "pgm.add_edge(\"c\", \"c\")\n",
      "\n",
      "# Render and save.\n",
      "pgm.render()\n"
     ],
     "language": "python",
     "metadata": {},
     "outputs": [
      {
       "output_type": "stream",
       "stream": "stderr",
       "text": [
        "C:\\Users\\andrewd\\AppData\\Local\\Continuum\\Anaconda\\lib\\site-packages\\daft.py:322: RuntimeWarning: divide by zero encountered in double_scalars\n",
        "  alpha1 = 0.5 * ctx.node_unit * self.node1.scale / dist1\n",
        "C:\\Users\\andrewd\\AppData\\Local\\Continuum\\Anaconda\\lib\\site-packages\\daft.py:323: RuntimeWarning: divide by zero encountered in double_scalars\n",
        "  alpha2 = 0.5 * ctx.node_unit * self.node2.scale / dist2\n",
        "C:\\Users\\andrewd\\AppData\\Local\\Continuum\\Anaconda\\lib\\site-packages\\daft.py:326: RuntimeWarning: invalid value encountered in double_scalars\n",
        "  x0, y0 = x1 + alpha1 * dx, y1 + alpha1 * dy\n",
        "C:\\Users\\andrewd\\AppData\\Local\\Continuum\\Anaconda\\lib\\site-packages\\daft.py:329: RuntimeWarning: invalid value encountered in double_scalars\n",
        "  dx0 = dx * (1. - alpha1 - alpha2)\n",
        "C:\\Users\\andrewd\\AppData\\Local\\Continuum\\Anaconda\\lib\\site-packages\\daft.py:330: RuntimeWarning: invalid value encountered in double_scalars\n",
        "  dy0 = dy * (1. - alpha1 - alpha2)\n",
        "C:\\Users\\andrewd\\AppData\\Local\\Continuum\\Anaconda\\lib\\site-packages\\matplotlib\\patches.py:1016: RuntimeWarning: invalid value encountered in double_scalars\n",
        "  distance = np.sqrt(dx ** 2 + dy ** 2)\n"
       ]
      },
      {
       "metadata": {},
       "output_type": "pyout",
       "prompt_number": 2,
       "text": [
        "<matplotlib.axes.Axes at 0xa064080>"
       ]
      },
      {
       "metadata": {},
       "output_type": "display_data",
       "png": "[encoded data removed]",
       "text": [
        "<matplotlib.figure.Figure at 0xa054b00>"
       ]
      }
     ],
     "prompt_number": 2
    },
    {
     "cell_type": "code",
     "collapsed": false,
     "input": [
      "beta= 0.7\n",
      "nodes = 3\n",
      "M = np.matrix([[0,0,0], [0.5,0,0], [0.5,1,1]])\n",
      "#print M\n",
      "e = np.matrix(np.repeat(1, nodes))\n",
      "\n",
      "formula = beta*M+(1-beta)*(1./nodes)*np.multiply(e, e.T)\n",
      "print formula\n",
      "print np.sum(formula)"
     ],
     "language": "python",
     "metadata": {},
     "outputs": [
      {
       "output_type": "stream",
       "stream": "stdout",
       "text": [
        "[[ 0.1   0.1   0.1 ]\n",
        " [ 0.45  0.1   0.1 ]\n",
        " [ 0.45  0.8   0.8 ]]\n",
        "3.0\n"
       ]
      }
     ],
     "prompt_number": 4
    },
    {
     "cell_type": "code",
     "collapsed": false,
     "input": [
      "#constraint that sum of page ranks adds up to 3\n",
      "r = np.matrix([1., 1., 1.]).T\n",
      "#r = np.matrix([1./3, 1./3, 1./3]).T\n",
      "#print r.shape\n",
      "\n",
      "for _ in range(5):\n",
      "    r = np.dot(formula,r) \n",
      "    \n",
      "print r[0,0] + r[2,0]\n",
      "print r[1,0] + r[2,0]"
     ],
     "language": "python",
     "metadata": {},
     "outputs": [
      {
       "output_type": "stream",
       "stream": "stdout",
       "text": [
        "2.595\n",
        "2.7\n"
       ]
      }
     ],
     "prompt_number": 37
    },
    {
     "cell_type": "markdown",
     "metadata": {},
     "source": [
      "Answer is A + C equals 2.595"
     ]
    },
    {
     "cell_type": "markdown",
     "metadata": {},
     "source": [
      "__Question 2__\n",
      "\n",
      "Suppose we compute PageRank with \u03b2=0.85. Write the equations for the PageRanks a, b, and c of the three pages A, B, and C, respectively. Then, identify in the list below, one of the equations.\n",
      "\n",
      "b = .575a + .15c\n",
      "c = b + .575a\n",
      ".85a = c + .15b\n",
      ".95b = .475a + .05c"
     ]
    },
    {
     "cell_type": "code",
     "collapsed": false,
     "input": [
      "# Instantiate the PGM.\n",
      "pgm = daft.PGM([3, 2], origin=[0, 0], observed_style=\"inner\", )\n",
      "\n",
      "\n",
      "# Hierarchical parameters.\n",
      "pgm.add_node(daft.Node(\"a\", r\"a\", 1., 1.5))\n",
      "pgm.add_node(daft.Node(\"b\", r\"b\", 2.5, 1.5))\n",
      "pgm.add_node(daft.Node(\"c\", r\"c\", 1.5, 0.5))\n",
      "\n",
      "# Add in the edges.\n",
      "pgm.add_edge(\"a\", \"b\")\n",
      "pgm.add_edge(\"b\", \"c\")\n",
      "pgm.add_edge(\"a\", \"c\")\n",
      "pgm.add_edge(\"c\", \"a\")\n",
      "\n",
      "# Render and save.\n",
      "pgm.render()\n"
     ],
     "language": "python",
     "metadata": {},
     "outputs": [
      {
       "metadata": {},
       "output_type": "pyout",
       "prompt_number": 25,
       "text": [
        "<matplotlib.axes.Axes at 0xbc53be0>"
       ]
      },
      {
       "metadata": {},
       "output_type": "display_data",
       "png": "[encoded data removed]",
       "text": [
        "<matplotlib.figure.Figure at 0xbc87b70>"
       ]
      }
     ],
     "prompt_number": 25
    },
    {
     "cell_type": "code",
     "collapsed": false,
     "input": [
      "beta= 0.85\n",
      "nodes = 3\n",
      "M = np.matrix([[0,0,1], [0.5,0,0], [0.5,1,0]])\n",
      "#print M\n",
      "e = np.matrix(np.repeat(1, nodes))\n",
      "\n",
      "formula = beta*M+(1-beta)*(1./nodes)*np.multiply(e, e.T)\n",
      "print formula\n",
      "\n",
      "#constraint that sum of page ranks adds up to 3\n",
      "r = np.matrix([1., 1., 1.]).T\n",
      "#r = np.matrix([1./3, 1./3, 1./3]).T\n",
      "#print r.shape\n",
      "\n",
      "for _ in range(5):\n",
      "    r = np.dot(formula,r) \n",
      "    \n",
      "a, b, c= r[0,0], r[1,0], r[2,0]\n",
      "\n",
      "print b, .575*a + .15*c \n",
      "print c, b + .575*a \n",
      "print .85*a, c + .15*b \n",
      "print .95*b, .475*a + .05*c   #this one is correct!"
     ],
     "language": "python",
     "metadata": {},
     "outputs": [
      {
       "output_type": "stream",
       "stream": "stdout",
       "text": [
        "[[ 0.05   0.05   0.9  ]\n",
        " [ 0.475  0.05   0.05 ]\n",
        " [ 0.475  0.9    0.05 ]]\n",
        "0.653492851563 0.855468923828\n",
        "1.16181808594 1.3346890625\n",
        "1.00698570313 1.25984201367\n",
        "0.620818208984 0.620818208984\n"
       ]
      }
     ],
     "prompt_number": 38
    },
    {
     "cell_type": "markdown",
     "metadata": {},
     "source": [
      "__Question 3 -web links as above__\n",
      "\n",
      "Assuming no \"taxation,\" compute the PageRanks a, b, and c of the three pages A, B, and C, using iteration, starting with the \"0th\" iteration where all three pages have rank a = b = c = 1. Compute as far as the 5th iteration, and also determine what the PageRanks are in the limit. Then, identify the true statement from the list below.\n",
      "\n",
      "After iteration 4, b = 11/16\n",
      "In the limit, b = 1/2\n",
      "In the limit, b = 5/8\n",
      "In the limit, b = 3/5"
     ]
    },
    {
     "cell_type": "code",
     "collapsed": false,
     "input": [
      "beta= 0.85\n",
      "nodes = 3\n",
      "M = np.matrix([[0,0,1], [0.5,0,0], [0.5,1,0]])\n",
      "e = np.matrix(np.repeat(1, nodes))\n",
      "\n",
      "formula = M #+(1-beta)*(1./nodes)*np.multiply(e, e.T)\n",
      "print formula\n",
      "\n",
      "#constraint that sum of page ranks adds up to 3\n",
      "r = np.matrix([1., 1., 1.]).T\n",
      "#r = np.matrix([1./3, 1./3, 1./3]).T\n",
      "#print r.shape\n",
      "\n",
      "for _ in range(1000):\n",
      "    r = np.dot(formula,r) \n",
      "    \n",
      "a, b, c= r[0,0], r[1,0], r[2,0]\n",
      "print b"
     ],
     "language": "python",
     "metadata": {},
     "outputs": [
      {
       "output_type": "stream",
       "stream": "stdout",
       "text": [
        "[[ 0.   0.   1. ]\n",
        " [ 0.5  0.   0. ]\n",
        " [ 0.5  1.   0. ]]\n",
        "0.6\n"
       ]
      }
     ],
     "prompt_number": 42
    },
    {
     "cell_type": "markdown",
     "metadata": {},
     "source": [
      "__Question 4__\n",
      "\n",
      "Suppose our input data to a map-reduce operation consists of integer values (the keys are not important). The map function takes an integer i and produces the list of pairs (p,i) such that p is a prime divisor of i. For example, map(12) = [(2,12), (3,12)].\n",
      "The reduce function is addition. That is, reduce(p, [i1, i2, ...,ik]) is (p,i1+i2+...+ik).\n",
      "\n",
      "Compute the output, if the input is the set of integers 15, 21, 24, 30, 49. Then, identify, in the list below, one of the pairs in the output.\n",
      "\n",
      "(2,47)\n",
      "(5,45)\n",
      "(3,75)\n",
      "(7,48)"
     ]
    },
    {
     "cell_type": "code",
     "collapsed": false,
     "input": [
      "pairs = [(3, 15), (5, 15), (3, 21), (7, 21), (2,24), (3,24), (2,30), (3,30), (5,30), (3, 49), (7, 49)]\n",
      "d = {}\n",
      "for prime, num in pairs:\n",
      "    d[prime] = d.get(prime, 0) + num\n",
      "    \n",
      "print d"
     ],
     "language": "python",
     "metadata": {},
     "outputs": [
      {
       "output_type": "stream",
       "stream": "stdout",
       "text": [
        "{2: 54, 3: 139, 5: 45, 7: 70}\n"
       ]
      }
     ],
     "prompt_number": 48
    },
    {
     "cell_type": "code",
     "collapsed": false,
     "input": [],
     "language": "python",
     "metadata": {},
     "outputs": []
    }
   ],
   "metadata": {}
  }
 ]
}